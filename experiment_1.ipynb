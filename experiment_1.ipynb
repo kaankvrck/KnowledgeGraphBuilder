{
 "cells": [
  {
   "cell_type": "code",
   "execution_count": 1,
   "metadata": {},
   "outputs": [
    {
     "data": {
      "text/html": [
       "<div>\n",
       "<style scoped>\n",
       "    .dataframe tbody tr th:only-of-type {\n",
       "        vertical-align: middle;\n",
       "    }\n",
       "\n",
       "    .dataframe tbody tr th {\n",
       "        vertical-align: top;\n",
       "    }\n",
       "\n",
       "    .dataframe thead th {\n",
       "        text-align: right;\n",
       "    }\n",
       "</style>\n",
       "<table border=\"1\" class=\"dataframe\">\n",
       "  <thead>\n",
       "    <tr style=\"text-align: right;\">\n",
       "      <th></th>\n",
       "      <th>id</th>\n",
       "      <th>title</th>\n",
       "      <th>context</th>\n",
       "      <th>question</th>\n",
       "      <th>answers</th>\n",
       "    </tr>\n",
       "  </thead>\n",
       "  <tbody>\n",
       "    <tr>\n",
       "      <th>0</th>\n",
       "      <td>5733be284776f41900661182</td>\n",
       "      <td>University_of_Notre_Dame</td>\n",
       "      <td>Architecturally, the school has a Catholic cha...</td>\n",
       "      <td>To whom did the Virgin Mary allegedly appear i...</td>\n",
       "      <td>{'text': ['Saint Bernadette Soubirous'], 'answ...</td>\n",
       "    </tr>\n",
       "    <tr>\n",
       "      <th>1</th>\n",
       "      <td>5733be284776f4190066117f</td>\n",
       "      <td>University_of_Notre_Dame</td>\n",
       "      <td>Architecturally, the school has a Catholic cha...</td>\n",
       "      <td>What is in front of the Notre Dame Main Building?</td>\n",
       "      <td>{'text': ['a copper statue of Christ'], 'answe...</td>\n",
       "    </tr>\n",
       "    <tr>\n",
       "      <th>2</th>\n",
       "      <td>5733be284776f41900661180</td>\n",
       "      <td>University_of_Notre_Dame</td>\n",
       "      <td>Architecturally, the school has a Catholic cha...</td>\n",
       "      <td>The Basilica of the Sacred heart at Notre Dame...</td>\n",
       "      <td>{'text': ['the Main Building'], 'answer_start'...</td>\n",
       "    </tr>\n",
       "    <tr>\n",
       "      <th>3</th>\n",
       "      <td>5733be284776f41900661181</td>\n",
       "      <td>University_of_Notre_Dame</td>\n",
       "      <td>Architecturally, the school has a Catholic cha...</td>\n",
       "      <td>What is the Grotto at Notre Dame?</td>\n",
       "      <td>{'text': ['a Marian place of prayer and reflec...</td>\n",
       "    </tr>\n",
       "    <tr>\n",
       "      <th>4</th>\n",
       "      <td>5733be284776f4190066117e</td>\n",
       "      <td>University_of_Notre_Dame</td>\n",
       "      <td>Architecturally, the school has a Catholic cha...</td>\n",
       "      <td>What sits on top of the Main Building at Notre...</td>\n",
       "      <td>{'text': ['a golden statue of the Virgin Mary'...</td>\n",
       "    </tr>\n",
       "    <tr>\n",
       "      <th>...</th>\n",
       "      <td>...</td>\n",
       "      <td>...</td>\n",
       "      <td>...</td>\n",
       "      <td>...</td>\n",
       "      <td>...</td>\n",
       "    </tr>\n",
       "    <tr>\n",
       "      <th>87594</th>\n",
       "      <td>5735d259012e2f140011a09d</td>\n",
       "      <td>Kathmandu</td>\n",
       "      <td>Kathmandu Metropolitan City (KMC), in order to...</td>\n",
       "      <td>In what US state did Kathmandu first establish...</td>\n",
       "      <td>{'text': ['Oregon'], 'answer_start': [229]}</td>\n",
       "    </tr>\n",
       "    <tr>\n",
       "      <th>87595</th>\n",
       "      <td>5735d259012e2f140011a09e</td>\n",
       "      <td>Kathmandu</td>\n",
       "      <td>Kathmandu Metropolitan City (KMC), in order to...</td>\n",
       "      <td>What was Yangon previously known as?</td>\n",
       "      <td>{'text': ['Rangoon'], 'answer_start': [414]}</td>\n",
       "    </tr>\n",
       "    <tr>\n",
       "      <th>87596</th>\n",
       "      <td>5735d259012e2f140011a09f</td>\n",
       "      <td>Kathmandu</td>\n",
       "      <td>Kathmandu Metropolitan City (KMC), in order to...</td>\n",
       "      <td>With what Belorussian city does Kathmandu have...</td>\n",
       "      <td>{'text': ['Minsk'], 'answer_start': [476]}</td>\n",
       "    </tr>\n",
       "    <tr>\n",
       "      <th>87597</th>\n",
       "      <td>5735d259012e2f140011a0a0</td>\n",
       "      <td>Kathmandu</td>\n",
       "      <td>Kathmandu Metropolitan City (KMC), in order to...</td>\n",
       "      <td>In what year did Kathmandu create its initial ...</td>\n",
       "      <td>{'text': ['1975'], 'answer_start': [199]}</td>\n",
       "    </tr>\n",
       "    <tr>\n",
       "      <th>87598</th>\n",
       "      <td>5735d259012e2f140011a0a1</td>\n",
       "      <td>Kathmandu</td>\n",
       "      <td>Kathmandu Metropolitan City (KMC), in order to...</td>\n",
       "      <td>What is KMC an initialism of?</td>\n",
       "      <td>{'text': ['Kathmandu Metropolitan City'], 'ans...</td>\n",
       "    </tr>\n",
       "  </tbody>\n",
       "</table>\n",
       "<p>87599 rows × 5 columns</p>\n",
       "</div>"
      ],
      "text/plain": [
       "                             id                     title  \\\n",
       "0      5733be284776f41900661182  University_of_Notre_Dame   \n",
       "1      5733be284776f4190066117f  University_of_Notre_Dame   \n",
       "2      5733be284776f41900661180  University_of_Notre_Dame   \n",
       "3      5733be284776f41900661181  University_of_Notre_Dame   \n",
       "4      5733be284776f4190066117e  University_of_Notre_Dame   \n",
       "...                         ...                       ...   \n",
       "87594  5735d259012e2f140011a09d                 Kathmandu   \n",
       "87595  5735d259012e2f140011a09e                 Kathmandu   \n",
       "87596  5735d259012e2f140011a09f                 Kathmandu   \n",
       "87597  5735d259012e2f140011a0a0                 Kathmandu   \n",
       "87598  5735d259012e2f140011a0a1                 Kathmandu   \n",
       "\n",
       "                                                 context  \\\n",
       "0      Architecturally, the school has a Catholic cha...   \n",
       "1      Architecturally, the school has a Catholic cha...   \n",
       "2      Architecturally, the school has a Catholic cha...   \n",
       "3      Architecturally, the school has a Catholic cha...   \n",
       "4      Architecturally, the school has a Catholic cha...   \n",
       "...                                                  ...   \n",
       "87594  Kathmandu Metropolitan City (KMC), in order to...   \n",
       "87595  Kathmandu Metropolitan City (KMC), in order to...   \n",
       "87596  Kathmandu Metropolitan City (KMC), in order to...   \n",
       "87597  Kathmandu Metropolitan City (KMC), in order to...   \n",
       "87598  Kathmandu Metropolitan City (KMC), in order to...   \n",
       "\n",
       "                                                question  \\\n",
       "0      To whom did the Virgin Mary allegedly appear i...   \n",
       "1      What is in front of the Notre Dame Main Building?   \n",
       "2      The Basilica of the Sacred heart at Notre Dame...   \n",
       "3                      What is the Grotto at Notre Dame?   \n",
       "4      What sits on top of the Main Building at Notre...   \n",
       "...                                                  ...   \n",
       "87594  In what US state did Kathmandu first establish...   \n",
       "87595               What was Yangon previously known as?   \n",
       "87596  With what Belorussian city does Kathmandu have...   \n",
       "87597  In what year did Kathmandu create its initial ...   \n",
       "87598                      What is KMC an initialism of?   \n",
       "\n",
       "                                                 answers  \n",
       "0      {'text': ['Saint Bernadette Soubirous'], 'answ...  \n",
       "1      {'text': ['a copper statue of Christ'], 'answe...  \n",
       "2      {'text': ['the Main Building'], 'answer_start'...  \n",
       "3      {'text': ['a Marian place of prayer and reflec...  \n",
       "4      {'text': ['a golden statue of the Virgin Mary'...  \n",
       "...                                                  ...  \n",
       "87594        {'text': ['Oregon'], 'answer_start': [229]}  \n",
       "87595       {'text': ['Rangoon'], 'answer_start': [414]}  \n",
       "87596         {'text': ['Minsk'], 'answer_start': [476]}  \n",
       "87597          {'text': ['1975'], 'answer_start': [199]}  \n",
       "87598  {'text': ['Kathmandu Metropolitan City'], 'ans...  \n",
       "\n",
       "[87599 rows x 5 columns]"
      ]
     },
     "execution_count": 1,
     "metadata": {},
     "output_type": "execute_result"
    }
   ],
   "source": [
    "from datasets import load_dataset\n",
    "dataset = load_dataset('squad', split='train').to_pandas()\n",
    "dataset"
   ]
  },
  {
   "cell_type": "code",
   "execution_count": 2,
   "metadata": {},
   "outputs": [
    {
     "data": {
      "text/plain": [
       "title\n",
       "New_York_City            817\n",
       "American_Idol            802\n",
       "Beyoncé                  758\n",
       "Frédéric_Chopin          697\n",
       "Queen_Victoria           680\n",
       "                        ... \n",
       "Great_Plains              47\n",
       "Tristan_da_Cunha          44\n",
       "Pitch_(music)             36\n",
       "Matter                    24\n",
       "Myocardial_infarction     22\n",
       "Name: count, Length: 442, dtype: int64"
      ]
     },
     "execution_count": 2,
     "metadata": {},
     "output_type": "execute_result"
    }
   ],
   "source": [
    "dataset['title'].value_counts()"
   ]
  },
  {
   "cell_type": "code",
   "execution_count": 3,
   "metadata": {},
   "outputs": [
    {
     "name": "stderr",
     "output_type": "stream",
     "text": [
      "/var/folders/rf/zhrg_ktx3wnb3yqxlyqbsm3c0000gn/T/ipykernel_6826/977085885.py:4: SettingWithCopyWarning: \n",
      "A value is trying to be set on a copy of a slice from a DataFrame.\n",
      "Try using .loc[row_indexer,col_indexer] = value instead\n",
      "\n",
      "See the caveats in the documentation: https://pandas.pydata.org/pandas-docs/stable/user_guide/indexing.html#returning-a-view-versus-a-copy\n",
      "  beyonce_df['context'] = beyonce_df['context'].apply(lambda x : re.sub(r'[^\\w\\s]', '', x))\n"
     ]
    }
   ],
   "source": [
    "import re\n",
    "\n",
    "beyonce_df = dataset[dataset['title'] == 'Beyoncé']\n",
    "beyonce_df['context'] = beyonce_df['context'].apply(lambda x : re.sub(r'[^\\w\\s]', '', x))"
   ]
  },
  {
   "cell_type": "code",
   "execution_count": 4,
   "metadata": {},
   "outputs": [],
   "source": [
    "import numpy as np\n",
    "context_list = np.unique(beyonce_df['context'])[:300]"
   ]
  },
  {
   "cell_type": "code",
   "execution_count": 5,
   "metadata": {},
   "outputs": [
    {
     "data": {
      "text/plain": [
       "array(['A selfdescribed modernday feminist Beyoncé creates songs that are often characterized by themes of love relationships and monogamy as well as female sexuality and empowerment On stage her dynamic highly choreographed performances have led to critics hailing her as one of the best entertainers in contemporary popular music Throughout a career spanning 19 years she has sold over 118 million records as a solo artist and a further 60 million with Destinys Child making her one of the bestselling music artists of all time She has won 20 Grammy Awards and is the most nominated woman in the awards history The Recording Industry Association of America recognized her as the Top Certified Artist in America during the 2000s decade In 2009 Billboard named her the Top Radio Songs Artist of the Decade the Top Female Artist of the 2000s and their Artist of the Millennium in 2011 Time listed her among the 100 most influential people in the world in 2013 and 2014 Forbes magazine also listed her as the most powerful female musician of 2015',\n",
       "       'According to Italian fashion designer Roberto Cavalli Beyoncé uses different fashion styles to work with her music while performing Her mother cowrote a book published in 2002 titled Destinys Style an account of how fashion had an impact on the trios success The BDay Anthology Video Album showed many instances of fashionoriented footage depicting classic to contemporary wardrobe styles In 2007 Beyoncé was featured on the cover of the Sports Illustrated Swimsuit Issue becoming the second African American woman after Tyra Banks and People magazine recognized Beyoncé as the bestdressed celebrity',\n",
       "       'After Hurricane Katrina in 2005 Beyoncé and Rowland founded the Survivor Foundation to provide transitional housing for victims in the Houston area to which Beyoncé contributed an initial 250000 The foundation has since expanded to work with other charities in the city and also provided relief following Hurricane Ike three years later',\n",
       "       'At age eight Beyoncé and childhood friend Kelly Rowland met LaTavia Roberson while in an audition for an allgirl entertainment group They were placed into a group with three other girls as Girls Tyme and rapped and danced on the talent show circuit in Houston After seeing the group RB producer Arne Frager brought them to his Northern California studio and placed them in Star Search the largest talent show on national TV at the time Girls Tyme failed to win and Beyoncé later said the song they performed was not good In 1995 Beyoncés father resigned from his job to manage the group The move reduced Beyoncés familys income by half and her parents were forced to move into separated apartments Mathew cut the original lineup to four and the group continued performing as an opening act for other established RB girl groups The girls auditioned before record labels and were finally signed to Elektra Records moving to Atlanta Records briefly to work on their first recording only to be cut by the company This put further strain on the family and Beyoncés parents separated On October 5 1995 Dwayne Wigginss Grass Roots Entertainment signed the group In 1996 the girls began recording their debut album under an agreement with Sony Music the Knowles family reunited and shortly after the group got a contract with Columbia Records',\n",
       "       'At the 52nd Annual Grammy Awards Beyoncé received ten nominations including Album of the Year for I Am Sasha Fierce Record of the Year for Halo and Song of the Year for Single Ladies Put a Ring on It among others She tied with Lauryn Hill for most Grammy nominations in a single year by a female artist In 2010 Beyoncé was featured on Lady Gagas single Telephone and its music video The song topped the US Pop Songs chart becoming the sixth numberone for both Beyoncé and Gaga tying them with Mariah Carey for most numberones since the Nielsen Top 40 airplay chart launched in 1992 Telephone received a Grammy Award nomination for Best Pop Collaboration with Vocals',\n",
       "       'At the 57th Annual Grammy Awards in February 2015 Beyoncé was nominated for six awards ultimately winning three Best RB Performance and Best RB Song for Drunk in Love and Best Surround Sound Album for Beyoncé She was nominated for Album of the Year but the award was won by Beck for his Morning Phase album In August the cover of the September issue of Vogue magazine was unveiled online Beyoncé as the cover star becoming the first AfricanAmerican artist and third AfricanAmerican woman in general to cover the September issue She headlined the 2015 Made in America festival in early September and also the Global Citizen Festival later that month Beyoncé made an uncredited featured appearance on the track Hymn for the Weekend by British rock band Coldplay on their seventh studio album A Head Full of Dreams 2015 which saw release in December On January 7 2016 Pepsi announced Beyoncé would perform alongside Coldplay at Super Bowl 50 in February Knowles has previously performed at four Super Bowl shows throughout her career serving as the main headliner of the 47th Super Bowl halftime show in 2013',\n",
       "       'Beyoncé Giselle Knowles was born in Houston Texas to Celestine Ann Tina Knowles née Beyincé a hairdresser and salon owner and Mathew Knowles a Xerox sales manager Beyoncés name is a tribute to her mothers maiden name Beyoncés younger sister Solange is also a singer and a former member of Destinys Child Mathew is AfricanAmerican while Tina is of Louisiana Creole descent with African Native American French Cajun and distant Irish and Spanish ancestry Through her mother Beyoncé is a descendant of Acadian leader Joseph Broussard She was raised in a Methodist household',\n",
       "       'Beyoncé Giselle KnowlesCarter biːˈjɒnseɪ beeYONsay born September 4 1981 is an American singer songwriter record producer and actress Born and raised in Houston Texas she performed in various singing and dancing competitions as a child and rose to fame in the late 1990s as lead singer of RB girlgroup Destinys Child Managed by her father Mathew Knowles the group became one of the worlds bestselling girl groups of all time Their hiatus saw the release of Beyoncés debut album Dangerously in Love 2003 which established her as a solo artist worldwide earned five Grammy Awards and featured the Billboard Hot 100 numberone singles Crazy in Love and Baby Boy',\n",
       "       'Beyoncé and her mother introduced House of Deréon a contemporary womens fashion line in 2005 The concept is inspired by three generations of women in their family the name paying tribute to Beyoncés grandmother Agnèz Deréon a respected seamstress According to Tina the overall style of the line best reflects her and Beyoncés taste and style Beyoncé and her mother founded their familys company Beyond Productions which provides the licensing and brand management for House of Deréon and its junior collection Deréon House of Deréon pieces were exhibited in Destinys Childs shows and tours during their Destiny Fulfilled era The collection features sportswear denim offerings with fur outerwear and accessories that include handbags and footwear and are available at department and specialty stores across the US and Canada',\n",
       "       'Beyoncé and husband Jay Z are friends with President Barack Obama and First Lady Michelle Obama She performed America the Beautiful at the 2009 presidential inauguration as well as At Last during the first inaugural dance at the Neighborhood Ball two days later Beyoncé and Jay Z held a fundraiser at the latters 4040 Club in Manhattan for Obamas 2012 presidential campaign which raised 4 million Beyoncé uploaded pictures of her paper ballot on Tumblr confirming she had voted in support for the Democratic Party and to encourage others to do so She also performed the American national anthem at his second inauguration singing along with a prerecorded track She publicly endorsed same sex marriage on March 26 2013 after the Supreme Court debate on Californias Proposition 8 In July 2013 Beyoncé and JayZ attended a rally in response to the acquittal of George Zimmerman for the shooting of Trayvon Martin',\n",
       "       'Beyoncé announced a hiatus from her music career in January 2010 heeding her mothers advice to live life to be inspired by things again During the break she and her father parted ways as business partners Beyoncés musical break lasted nine months and saw her visit multiple European cities the Great Wall of China the Egyptian pyramids Australia English music festivals and various museums and ballet performances',\n",
       "       'Beyoncé attended St Marys Elementary School in Fredericksburg Texas where she enrolled in dance classes Her singing talent was discovered when dance instructor Darlette Johnson began humming a song and she finished it able to hit the highpitched notes Beyoncés interest in music and performing continued after winning a school talent show at age seven singing John Lennons Imagine to beat 1516yearolds In fall of 1990 Beyoncé enrolled in Parker Elementary School a music magnet school in Houston where she would perform with the schools choir She also attended the High School for the Performing and Visual Arts and later Alief Elsik High School Beyoncé was also a member of the choir at St Johns United Methodist Church as a soloist for two years',\n",
       "       'Beyoncé embarked on The Mrs Carter Show World Tour on April 15 in Belgrade Serbia the tour included 132 dates that ran through to March 2014 It became the most successful tour of her career and one of the mostsuccessful tours of all time In May Beyoncés cover of Amy Winehouses Back to Black with André 3000 on The Great Gatsby soundtrack was released She was also honorary chair of the 2013 Met Gala Beyoncé voiced Queen Tara in the 3D CGI animated film Epic released by 20th Century Fox on May 24 and recorded an original song for the film Rise Up cowritten with Sia',\n",
       "       'Beyoncé further expanded her acting career starring as blues singer Etta James in the 2008 musical biopic Cadillac Records Her performance in the film received praise from critics and she garnered several nominations for her portrayal of James including a Satellite Award nomination for Best Supporting Actress and a NAACP Image Award nomination for Outstanding Supporting Actress Beyoncé donated her entire salary from the film to Phoenix House an organization of rehabilitation centers for heroin addicts around the country On January 20 2009 Beyoncé performed James At Last at the First Couples first inaugural ball Beyoncé starred opposite Ali Larter and Idris Elba in the thriller Obsessed She played Sharon Charles a mother and wife who learns of a womans obsessive behavior over her husband Although the film received negative reviews from critics the movie did well at the US box office grossing 68 million60 million more than Cadillac Recordson a budget of 20 million The fight scene finale between Sharon and the character played by Ali Larter also won the 2010 MTV Movie Award for Best Fight',\n",
       "       'Beyoncé has been described as a having a wideranging sex appeal with music journalist Touré writing that since the release of Dangerously in Love she has become a crossover sex symbol Offstage Beyoncé says that while she likes to dress sexily her onstage dress is absolutely for the stage Due to her curves and the terms catchiness in the 2000s the media often used the term Bootylicious a portmanteau of the words booty and delicious to describe Beyoncé the term popularized by Destinys Childs single of the same name In 2006 it was added to the Oxford English Dictionary',\n",
       "       'Beyoncé has received numerous awards As a solo artist she has sold over 15 million albums in the US and over 118 million records worldwide a further 60 million additionally with Destinys Child making her one of the bestselling music artists of all time The Recording Industry Association of America RIAA listed Beyoncé as the top certified artist of the 2000s with a total of 64 certifications Her songs Crazy in Love Single Ladies Put a Ring on It Halo and Irreplaceable are some of the bestselling singles of all time worldwide In 2009 The Observer named her the Artist of the Decade and Billboard named her the Top Female Artist and Top Radio Songs Artist of the Decade In 2010 Billboard named her in their Top 50 RBHipHop Artists of the Past 25 Years list at number 15 In 2012 VH1 ranked her third on their list of the 100 Greatest Women in Music Beyoncé was the first female artist to be honored with the International Artist Award at the American Music Awards She has also received the Legend Award at the 2008 World Music Awards and the Billboard Millennium Award at the 2011 Billboard Music Awards',\n",
       "       'Beyoncé has received praise for her stage presence and voice during live performances Jarett Wieselman of the New York Post placed her at number one on her list of the Five Best SingerDancers According to Barbara Ellen of The Guardian Beyoncé is the most incharge female artist shes seen onstage while Alice Jones of The Independent wrote she takes her role as entertainer so seriously shes almost too good The exPresident of Def Jam LA Reid has described Beyoncé as the greatest entertainer alive Jim Farber of the Daily News and Stephanie Classen of Star Phoenix both praised her strong voice and her stage presence',\n",
       "       'Beyoncé has stated that she is personally inspired by US First Lady Michelle Obama saying She proves you can do it all and she has described Oprah Winfrey as the definition of inspiration and a strong woman She has also discussed how Jay Z is a continuing inspiration to her both with what she describes as his lyrical genius and in the obstacles he has overcome in his life Beyoncé has expressed admiration for the artist JeanMichel Basquiat posting in a letter what I find in the work of JeanMichel Basquiat I search for in every day in music he is lyrical and raw In February 2013 Beyoncé said that Madonna inspired her to take control of her own career She commented I think about Madonna and how she took all of the great things she achieved and started the label and developed other artists But there are not enough of those women',\n",
       "       'Beyoncé has won 20 Grammy Awards both as a solo artist and member of Destinys Child making her the second most honored female artist by the Grammys behind Alison Krauss and the most nominated woman in Grammy Award history with 52 nominations Single Ladies Put a Ring on It won Song of the Year in 2010 while Say My Name and Crazy in Love had previously won Best RB Song Dangerously in Love BDay and I Am Sasha Fierce have all won Best Contemporary RB Album Beyoncé set the record for the most Grammy awards won by a female artist in one night in 2010 when she won six awards breaking the tie she previously held with Alicia Keys Norah Jones Alison Krauss and Amy Winehouse with Adele equaling this in 2012 Following her role in Dreamgirls she was nominated for Best Original Song for Listen and Best Actress at the Golden Globe Awards and Outstanding Actress in a Motion Picture at the NAACP Image Awards Beyoncé won two awards at the Broadcast Film Critics Association Awards 2006 Best Song for Listen and Best Original Soundtrack for Dreamgirls Music from the Motion Picture',\n",
       "       'Beyoncé has worked with Pepsi since 2002 and in 2004 appeared in a Gladiatorthemed commercial with Britney Spears Pink and Enrique Iglesias In 2012 Beyoncé signed a 50 million deal to endorse Pepsi The Center for Science in the Public Interest CSPINET wrote Beyoncé an open letter asking her to reconsider the deal because of the unhealthiness of the product and to donate the proceeds to a medical organisation Nevertheless NetBase found that Beyoncés campaign was the most talked about endorsement in April 2013 with a 70 per cent positive audience response to the commercial and print ads',\n",
       "       'Beyoncé has worked with Tommy Hilfiger for the fragrances True Star singing a cover version of Wishing on a Star and True Star Gold she also promoted Emporio Armanis Diamonds fragrance in 2007 Beyoncé launched her first official fragrance Heat in 2010 The commercial which featured the 1956 song Fever was shown after the water shed in the United Kingdom as it begins with an image of Beyoncé appearing to lie naked in a room In February 2011 Beyoncé launched her second fragrance Heat Rush Beyoncés third fragrance Pulse was launched in September 2011 In 2013 The Mrs Carter Show Limited Edition version of Heat was released The six editions of Heat are the worlds bestselling celebrity fragrance line with sales of over 400 million',\n",
       "       'Beyoncé is believed to have first started a relationship with Jay Z after a collaboration on 03 Bonnie  Clyde which appeared on his seventh album The Blueprint 2 The Gift  The Curse 2002 Beyoncé appeared as Jay Zs girlfriend in the music video for the song which would further fuel speculation of their relationship On April 4 2008 Beyoncé and Jay Z were married without publicity As of April 2014 the couple have sold a combined 300 million records together The couple are known for their private relationship although they have appeared to become more relaxed in recent years Beyoncé suffered a miscarriage in 2010 or 2011 describing it as the saddest thing she had ever endured She returned to the studio and wrote music in order to cope with the loss In April 2011 Beyoncé and Jay Z traveled to Paris in order to shoot the album cover for her 4 and unexpectedly became pregnant in Paris',\n",
       "       'Beyoncé names Michael Jackson as her major musical influence Aged five Beyoncé attended her first ever concert where Jackson performed and she claims to have realised her purpose When she presented him with a tribute award at the World Music Awards in 2006 Beyoncé said if it wasnt for Michael Jackson I would never ever have performed She admires Diana Ross as an allaround entertainer and Whitney Houston who she said inspired me to get up there and do what she did She credits Mariah Careys singing and her song Vision of Love as influencing her to begin practicing vocal runs as a child Her other musical influences include Aaliyah Prince Lauryn Hill Sade Adu Donna Summer Mary J Blige Janet Jackson Anita Baker and Rachelle Ferrell',\n",
       "       'Beyoncé participated in George Clooney and Wyclef Jeans Hope for Haiti Now A Global Benefit for Earthquake Relief telethon and was named the official face of the limited edition CFDA Fashion For Haiti Tshirt made by Theory which raised a total of 1 million On March 5 2010 Beyoncé and her mother Tina opened the Beyoncé Cosmetology Center at the Brooklyn Phoenix House offering a sevenmonth cosmetology training course for men and women In April 2011 Beyoncé joined forces with US First Lady Michelle Obama and the National Association of Broadcasters Education Foundation to help boost the latters campaign against child obesity by reworking her single Get Me Bodied Following the death of Osama bin Laden Beyoncé released her cover of the Lee Greenwood song God Bless the USA as a charity single to help raise funds for the New York Police and Fire Widows and Childrens Benefit Fund',\n",
       "       'Beyoncés first solo recording was a feature on Jay Zs 03 Bonnie  Clyde that was released in October 2002 peaking at number four on the US Billboard Hot 100 chart Her first solo album Dangerously in Love was released on June 24 2003 after Michelle Williams and Kelly Rowland had released their solo efforts The album sold 317000 copies in its first week debuted atop the Billboard 200 and has since sold 11 million copies worldwide The albums lead single Crazy in Love featuring Jay Z became Beyoncés first numberone single as a solo artist in the US The single Baby Boy also reached number one and singles Me Myself and I and Naughty Girl both reached the topfive The album earned Beyoncé a then recordtying five awards at the 46th Annual Grammy Awards Best Contemporary RB Album Best Female RB Vocal Performance for Dangerously in Love 2 Best RB Song and Best RapSung Collaboration for Crazy in Love and Best RB Performance by a Duo or Group with Vocals for The Closer I Get to You with Luther Vandross',\n",
       "       'Beyoncés lighter skin color and costuming has drawn criticism from some in the AfricanAmerican community Emmett Price a professor of music at Northeastern University wrote in 2007 that he thinks race plays a role in many of these criticisms saying white celebrities who dress similarly do not attract as many comments In 2008 LOréal was accused of whitening her skin in their Feria hair color advertisements responding that it is categorically untrue and in 2013 Beyoncé herself criticized HM for their proposed retouching of promotional images of her and according to Vogue requested that only natural pictures be used',\n",
       "       'Beyoncés music is generally RB but she also incorporates pop soul and funk into her songs 4 demonstrated Beyoncés exploration of 90sstyle RB as well as further use of soul and hip hop than compared to previous releases While she almost exclusively releases English songs Beyoncé recorded several Spanish songs for Irreemplazable rerecordings of songs from BDay for a Spanishlanguage audience and the rerelease of BDay To record these Beyoncé was coached phonetically by American record producer Rudy Perez',\n",
       "       'Beyoncés second solo album BDay was released on September 5 2006 in the US to coincide with her twentyfifth birthday It sold 541000 copies in its first week and debuted atop the Billboard 200 becoming Beyoncés second consecutive numberone album in the United States The albums lead single Déjà Vu featuring Jay Z reached the top five on the Billboard Hot 100 chart The second international single Irreplaceable was a commercial success worldwide reaching number one in Australia Hungary Ireland New Zealand and the United States BDay also produced three other singles Ring the Alarm Get Me Bodied and Green Light released in the United Kingdom only',\n",
       "       'Beyoncés vocal range spans four octaves Jody Rosen highlights her tone and timbre as particularly distinctive describing her voice as one of the most compelling instruments in popular music While another critic says she is a Vocal acrobat being able to sing long and complex melismas and vocal runs effortlessly and in key Her vocal abilities mean she is identified as the centerpiece of Destinys Child The Daily Mail calls Beyoncés voice versatile capable of exploring power ballads soul rock belting operatic flourishes and hip hop Jon Pareles of The New York Times commented that her voice is velvety yet tart with an insistent flutter and reserves of soul belting Rosen notes that the hip hop era highly influenced Beyoncés strange rhythmic vocal style but also finds her quite traditionalist in her use of balladry gospel and falsetto Other critics praise her range and power with Chris Richards of The Washington Post saying she was capable of punctuating any beat with goosebumpinducing whispers or fullbore divaroars',\n",
       "       'Beyoncés work has influenced numerous artists including Adele Ariana Grande Lady Gaga Bridgit Mendler Rihanna Kelly Rowland Sam Smith Meghan Trainor Nicole Scherzinger Rita Ora Zendaya Cheryl Cole JoJo Alexis Jordan Jessica Sanchez and Azealia Banks American indie rock band White Rabbits also cited her an inspiration for their third album Milk Famous 2012 friend Gwyneth Paltrow studied Beyoncé at her live concerts while learning to become a musical performer for the 2010 film Country Strong Nicki Minaj has stated that seeing Beyoncés Pepsi commercial influenced her decision to appear in the companys 2012 global campaign',\n",
       "       'Described as being sexy seductive and provocative when performing on stage Beyoncé has said that she originally created the alter ego Sasha Fierce to keep that stage persona separate from who she really is She described Sasha as being too aggressive too strong too sassy and too sexy stating Im not like her in real life at all Sasha was conceived during the making of Crazy in Love and Beyoncé introduced her with the release of her 2008 album I Am Sasha Fierce In February 2010 she announced in an interview with Allure magazine that she was comfortable enough with herself to no longer need Sasha Fierce However Beyoncé announced in May 2012 that she would bring her back for her Revel Presents Beyoncé Live shows later that month',\n",
       "       'Following the death of Freddie Gray Beyoncé and JayZ among other notable figures met with his family After the imprisonment of protesters of Grays death Beyoncé and JayZ donated thousands of dollars to bail them out',\n",
       "       'Following the disbandment of Destinys Child in June 2005 she released her second solo album BDay 2006 which contained hits Déjà Vu Irreplaceable and Beautiful Liar Beyoncé also ventured into acting with a Golden Globenominated performance in Dreamgirls 2006 and starring roles in The Pink Panther 2006 and Obsessed 2009 Her marriage to rapper Jay Z and portrayal of Etta James in Cadillac Records 2008 influenced her third album I Am Sasha Fierce 2008 which saw the birth of her alterego Sasha Fierce and earned a recordsetting six Grammy Awards in 2010 including Song of the Year for Single Ladies Put a Ring on It Beyoncé took a hiatus from music in 2010 and took over management of her career her fourth album 4 2011 was subsequently mellower in tone exploring 1970s funk 1980s pop and 1990s soul Her critically acclaimed fifth studio album Beyoncé 2013 was distinguished from previous releases by its experimental production and exploration of darker themes',\n",
       "       'Forbes magazine began reporting on Beyoncés earnings in 2008 calculating that the 80 million earned between June 2007 to June 2008 for her music tour films and clothing line made her the worlds bestpaid music personality at the time above Madonna and Celine Dion They placed her fourth on the Celebrity 100 list in 2009 and ninth on the Most Powerful Women in the World list in 2010 The following year Forbes placed her eighth on the BestPaid Celebrities Under 30 list having earned 35 million in the past year for her clothing line and endorsement deals In 2012 Forbes placed Beyoncé at number 16 on the Celebrity 100 list twelve places lower than three years ago yet still having earned 40 million in the past year for her album 4 clothing line and endorsement deals In the same year Beyoncé and Jay Z placed at number one on the Worlds HighestPaid Celebrity Couples for collectively earning 78 million The couple made it into the previous years Guinness World Records as the highestearning power couple for collectively earning 122 million in 2009 For the years 2009 to 2011 Beyoncé earned an average of 70 million per year and earned 40 million in 2012 In 2013 Beyoncés endorsements of Pepsi and HM made her and Jay Z the worlds first billion dollar couple in the music industry That year Beyoncé was published as the fourth mostpowerful celebrity in the Forbes rankings MTV estimated that by the end of 2014 Beyoncé would become the highestpaid black musician in history she succeeded to do so in April 2014 In June 2014 Beyoncé ranked at 1 on the Forbes Celebrity 100 list earning an estimated 115 million throughout June 2013  June 2014 This in turn was the first time she had topped the Celebrity 100 list as well as being her highest yearly earnings to date As of May 2015 her net worth is estimated to be 250 million',\n",
       "       'Her debut single Crazy in Love was named VH1s Greatest Song of the 2000s NMEs Best Track of the 00s and Pop Song of the Century considered by Rolling Stone to be one of the 500 greatest songs of all time earned two Grammy Awards and is one of the bestselling singles of all time at around 8 million copies The music video for Single Ladies Put a Ring on It which achieved fame for its intricate choreography and its deployment of jazz hands was credited by the Toronto Star as having started the first major dance craze of both the new millennium and the Internet triggering a number of parodies of the dance choreography and a legion of amateur imitators on YouTube In 2013 Drake released a single titled Girls Love Beyoncé which featured an interpolation from Destiny Childs Say My Name and discussed his relationship with women In January 2012 research scientist Bryan Lessard named Scaptia beyonceae a species of horse fly found in Northern Queensland Australia after Beyoncé due to the flys unique golden hairs on its abdomen In July 2014 a Beyoncé exhibit was introduced into the Legends of Rock section of the Rock and Roll Hall of Fame The black leotard from the Single Ladies video and her outfit from the Super Bowl half time performance are among several pieces housed at the museum',\n",
       "       'Her first acting role of 2006 was in the comedy film The Pink Panther starring opposite Steve Martin grossing 1588 million at the box office worldwide Her second film Dreamgirls the film version of the 1981 Broadway musical loosely based on The Supremes received acclaim from critics and grossed 154 million internationally In it she starred opposite Jennifer Hudson Jamie Foxx and Eddie Murphy playing a pop singer based on Diana Ross To promote the film Beyoncé released Listen as the lead single from the soundtrack album In April 2007 Beyoncé embarked on The Beyoncé Experience her first worldwide concert tour visiting 97 venues and grossed over 24 millionnote 1 Beyoncé conducted preconcert food donation drives during six major stops in conjunction with her pastor at St Johns and Americas Second Harvest At the same time BDay was rereleased with five additional songs including her duet with Shakira Beautiful Liar',\n",
       "       'Her fourth studio album 4 was released on June 28 2011 in the US 4 sold 310000 copies in its first week and debuted atop the Billboard 200 chart giving Beyoncé her fourth consecutive numberone album in the US The album was preceded by two of its singles Run the World Girls and Best Thing I Never Had which both attained moderate success The fourth single Love on Top was a commercial success in the US 4 also produced four other singles Party Countdown I Care and End of Time Eat Play Love a cover story written by Beyoncé for Essence that detailed her 2010 career break won her a writing award from the New York Association of Black Journalists In late 2011 she took the stage at New Yorks Roseland Ballroom for four nights of special performances the 4 Intimate Nights with Beyoncé concerts saw the performance of her 4 album to a standing room only',\n",
       "       'In 2001 she became the first AfricanAmerican woman and second woman songwriter to win the Pop Songwriter of the Year award at the American Society of Composers Authors and Publishers Pop Music Awards Beyoncé was the third woman to have writing credits on three number one songs Irreplaceable Grillz and Check on It in the same year after Carole King in 1971 and Mariah Carey in 1991 She is tied with American songwriter Diane Warren at third with nine songwriting credits on numberone singles The latter wrote her 911motivated song I Was Here for 4 In May 2011 Billboard magazine listed Beyoncé at number 17 on their list of the Top 20 Hot 100 Songwriters for having cowritten eight singles that hit number one on the Billboard Hot 100 chart She was one of only three women on that list',\n",
       "       'In 2005 Beyoncé teamed up with House of Brands a shoe company to produce a range of footwear for House of Deréon In January 2008 Starwave Mobile launched Beyoncé Fashion Diva a highstyle mobile game with a social networking component featuring the House of Deréon collection In July 2009 Beyoncé and her mother launched a new junior apparel label Sasha Fierce for Deréon for backtoschool selling The collection included sportswear outerwear handbags footwear eyewear lingerie and jewelry It was available at department stores including Macys and Dillards and specialty stores Jimmy Jazz and Against All Odds On May 27 2010 Beyoncé teamed up with clothing store CA to launch Deréon by Beyoncé at their stores in Brazil The collection included tailored blazers with padded shoulders little black dresses embroidered tops and shirts and bandage dresses',\n",
       "       'In 2006 Beyoncé introduced her allfemale tour band Suga Mama also the name of a song in BDay which includes bassists drummers guitarists horn players keyboardists and percussionists Her background singers The Mamas consist of Montina CooperDonnell Crystal Collins and Tiffany Moniqué Riddick They made their debut appearance at the 2006 BET Awards and reappeared in the music videos for Irreplaceable and Green Light The band have supported Beyoncé in most subsequent live performances including her 2007 concert tour The Beyoncé Experience 20092010 I Am World Tour and 20132014 The Mrs Carter Show World Tour',\n",
       "       'In 2006 the animal rights organization People for the Ethical Treatment of Animals PETA criticized Beyoncé for wearing and using fur in her clothing line House of Deréon In 2011 she appeared on the cover of French fashion magazine LOfficiel in blackface and tribal makeup that drew criticism from the media A statement released from a spokesperson for the magazine said that Beyoncés look was far from the glamorous Sasha Fierce and that it was a return to her African roots',\n",
       "       'In 2011 documents obtained by WikiLeaks revealed that Beyoncé was one of many entertainers who performed for the family of Libyan ruler Muammar Gaddafi Rolling Stone reported that the music industry was urging them to return the money they earned for the concerts a spokesperson for Beyoncé later confirmed to The Huffington Post that she donated the money to the Clinton Bush Haiti Fund Later that year she became the first solo female artist to headline the main Pyramid stage at the 2011 Glastonbury Festival in over twenty years and was named the highestpaid performer in the world per minute',\n",
       "       'In 2015 Beyoncé signed an open letter which the ONE Campaign had been collecting signatures for the letter was addressed to Angela Merkel and Nkosazana DlaminiZuma urging them to focus on women as they serve as the head of the G7 in Germany and the AU in South Africa respectively which will start to set the priorities in development funding before a main UN summit in September 2015 that will establish new development goals for the generation',\n",
       "       'In August the couple attended the 2011 MTV Video Music Awards at which Beyoncé performed Love on Top and started the performance saying Tonight I want you to stand up on your feet I want you to feel the love thats growing inside of me At the end of the performance she dropped her microphone unbuttoned her blazer and rubbed her stomach confirming her pregnancy she had alluded to earlier in the evening Her appearance helped that years MTV Video Music Awards become the mostwatched broadcast in MTV history pulling in 124 million viewers the announcement was listed in Guinness World Records for most tweets per second recorded for a single event on Twitter receiving 8868 tweets per second and Beyonce pregnant was the most Googled term the week of August 29 2011',\n",
       "       'In December Beyoncé along with a variety of other celebrities teamed up and produced a video campaign for Demand A Plan a bipartisan effort by a group of 950 US mayors and others designed to influence the federal government into rethinking its gun control laws following the Sandy Hook Elementary School shooting Beyoncé became an ambassador for the 2012 World Humanitarian Day campaign donating her song I Was Here and its music video shot in the UN to the campaign In 2013 it was announced that Beyoncé would work with Salma Hayek and Frida Giannini on a Gucci Chime for Change campaign that aims to spread female empowerment The campaign which aired on February 28 was set to her new music A concert for the cause took place on June 1 2013 in London and included other acts like Ellie Goulding Florence and the Machine and Rita Ora In advance of the concert she appeared in a campaign video released on 15 May 2013 where she along with Cameron Diaz John Legend and Kylie Minogue described inspiration from their mothers while a number of other artists celebrated personal inspiration from other women leading to a call for submission of photos of women of viewers inspiration from which a selection was shown at the concert Beyoncé said about her mother Tina Knowles that her gift was finding the best qualities in every human being With help of the crowdfunding platform Catapult visitors of the concert could choose between several projects promoting education of women and girls Beyoncé is also taking part in Miss a Meal a fooddonation campaign and supporting Goodwill charity through online charity auctions at Charitybuzz that support job creation throughout Europe and the US',\n",
       "       'In January 2013 Destinys Child released Love Songs a compilation album of the romancethemed songs from their previous albums and a newly recorded track Nuclear Beyoncé performed the American national anthem singing along with a prerecorded track at President Obamas second inauguration in Washington DC The following month Beyoncé performed at the Super Bowl XLVII halftime show held at the MercedesBenz Superdome in New Orleans The performance stands as the second most tweeted about moment in history at 268000 tweets per minute At the 55th Annual Grammy Awards Beyoncé won for Best Traditional RB Performance for Love on Top Her featurelength documentary film Life Is But a Dream first aired on HBO on February 16 2013 The film which she directed and produced herself featured footage from her childhood her as a mother and businesswoman recording rehearsing for live performances and her return to the spotlight following Blue Ivys birth Its DVD release in November 2013 was accompanied by footage from the Revel Presents Beyoncé Live concerts and a new song God Made You Beautiful In February 2013 Beyoncé signed a global publishing agreement with WarnerChappell Music which would cover her future songwriting and thenupcoming studio album',\n",
       "       'In July 2002 Beyoncé continued her acting career playing Foxxy Cleopatra alongside Mike Myers in the comedy film Austin Powers in Goldmember which spent its first weekend atop the US box office and grossed 73 million Beyoncé released Work It Out as the lead single from its soundtrack album which entered the top ten in the UK Norway and Belgium In 2003 Beyoncé starred opposite Cuba Gooding Jr in the musical comedy The Fighting Temptations as Lilly a single mother whom Goodings character falls in love with The film received mixed reviews from critics but grossed 30 million in the US Beyoncé released Fighting Temptation as the lead single from the films soundtrack album with Missy Elliott MC Lyte and Free which was also used to promote the film Another of Beyoncés contributions to the soundtrack Summertime fared better on the US charts',\n",
       "       'In November 2003 she embarked on the Dangerously in Love Tour in Europe and later toured alongside Missy Elliott and Alicia Keys for the Verizon Ladies First Tour in North America On February 1 2004 Beyoncé performed the American national anthem at Super Bowl XXXVIII at the Reliant Stadium in Houston Texas After the release of Dangerously in Love Beyoncé had planned to produce a followup album using several of the leftover tracks However this was put on hold so she could concentrate on recording Destiny Fulfilled the final studio album by Destinys Child Released on November 15 2004 in the US and peaking at number two on the Billboard 200 Destiny Fulfilled included the singles Lose My Breath and Soldier which reached the top five on the Billboard Hot 100 chart Destinys Child embarked on a worldwide concert tour Destiny Fulfilled and Lovin It and during the last stop of their European tour in Barcelona on June 11 2005 Rowland announced that Destinys Child would disband following the North American leg of the tour The group released their first compilation album Number 1s on October 25 2005 in the US and accepted a star on the Hollywood Walk of Fame in March 2006',\n",
       "       'In October 2014 Beyoncé signed a deal to launch an activewear line of clothing with British fashion retailer Topshop The 5050 venture is called Parkwood Topshop Athletic Ltd and is scheduled to launch its first dance fitness and sports ranges in autumn 2015 The line will launch in April 2016',\n",
       "       'In October 2014 it was announced that Beyoncé with her management company Parkwood Entertainment would be partnering with Londonbased fashion retailer Topshop in a new 5050 split subsidiary business named Parkwood Topshop Athletic Ltd The new division was created for Topshop to break into the activewear market with an athletic street wear brand being produced Creating a partnership with Beyoncé one of the most hardworking and talented people in the world who spends many hours of her life dancing rehearsing and training is a unique opportunity to develop this category stated Sir Philip Green on the partnership The company and collection is set to launch and hit stores in the fall of 2015',\n",
       "       'In September 2010 Beyoncé made her runway modelling debut at Tom Fords SpringSummer 2011 fashion show She was named Worlds Most Beautiful Woman by People and the Hottest Female Singer of All Time by Complex in 2012 In January 2013 GQ placed her on its cover featuring her atop its 100 Sexiest Women of the 21st Century list VH1 listed her at number 1 on its 100 Sexiest Artists list Several wax figures of Beyoncé are found at Madame Tussauds Wax Museums in major cities around the world including New York Washington DC Amsterdam Bangkok Hollywood and Sydney',\n",
       "       'In The New Yorker music critic Jody Rosen described Beyoncé as the most important and compelling popular musician of the twentyfirst century the result the logical end point of a centuryplus of pop When The Guardian named her Artist of the Decade LlewynSmith wrote Why Beyoncé  Because she made not one but two of the decades greatest singles with Crazy in Love and Single Ladies Put a Ring on It not to mention her hits with Destinys Child and this was the decade when singles  particularly RB singles  regained their status as pops favourite medium  She and not any superannuated rock star was arguably the greatest live performer of the past 10 years In 2013 Beyoncé made the Time 100 list Baz Luhrmann writing no one has that voice no one moves the way she moves no one can hold an audience the way she does When Beyoncé does an album when Beyoncé sings a song when Beyoncé does anything its an event and its broadly influential Right now she is the heirapparent diva of the USA  the reigning national voice In 2014 Beyoncé was listed again on the Time 100 and also featured on the cover of the issue',\n",
       "       'In an interview published by Vogue in April 2013 Beyoncé was asked if she considers herself a feminist to which she said that word can be very extreme But I guess I am a modernday feminist I do believe in equality She would later align herself more publicly with the movement sampling We should all be feminists a speech delivered by Nigerian author Chimamanda Ngozi Adichie at a TEDxEuston conference in April 2013 in her song Flawless released later that year She has also contributed to the Ban Bossy campaign which uses television and social media to encourage leadership in girls',\n",
       "       'LeToya Luckett and Roberson became unhappy with Mathews managing of the band and eventually were replaced by Farrah Franklin and Michelle Williams Beyoncé experienced depression following the split with Luckett and Roberson after being publicly blamed by the media critics and blogs for its cause Her longstanding boyfriend left her at this time The depression was so severe it lasted for a couple of years during which she occasionally kept herself in her bedroom for days and refused to eat anything Beyoncé stated that she struggled to speak about her depression because Destinys Child had just won their first Grammy Award and she feared no one would take her seriously Beyoncé would later speak of her mother as the person who helped her fight it Franklin was dismissed leaving just Beyoncé Rowland and Williams',\n",
       "       'On April 4 2008 Beyoncé married Jay Z She publicly revealed their marriage in a video montage at the listening party for her third studio album I Am Sasha Fierce in Manhattans Sony Club on October 22 2008 I Am Sasha Fierce was released on November 18 2008 in the United States The album formally introduces Beyoncés alter ego Sasha Fierce conceived during the making of her 2003 single Crazy in Love selling 482000 copies in its first week debuting atop the Billboard 200 and giving Beyoncé her third consecutive numberone album in the US The album featured the numberone song Single Ladies Put a Ring on It and the topfive songs If I Were a Boy and Halo Achieving the accomplishment of becoming her longestrunning Hot 100 single in her career Halos success in the US helped Beyoncé attain more topten singles on the list than any other woman during the 2000s It also included the successful Sweet Dreams and singles Diva Ego BrokenHearted Girl and Video Phone The music video for Single Ladies has been parodied and imitated around the world spawning the first major dance craze of the Internet age according to the Toronto Star The video has won several awards including Best Video at the 2009 MTV Europe Music Awards the 2009 Scottish MOBO Awards and the 2009 BET Awards At the 2009 MTV Video Music Awards the video was nominated for nine awards ultimately winning three including Video of the Year Its failure to win the Best Female Video category which went to American country pop singer Taylor Swifts You Belong with Me led to Kanye West interrupting the ceremony and Beyoncé improvising a representation of Swifts award during her own acceptance speech In March 2009 Beyoncé embarked on the I Am World Tour her second headlining worldwide concert tour consisting of 108 shows grossing 1195 million',\n",
       "       'On December 13 2013 Beyoncé unexpectedly released her eponymous fifth studio album on the iTunes Store without any prior announcement or promotion The album debuted atop the Billboard 200 chart giving Beyoncé her fifth consecutive numberone album in the US This made her the first woman in the charts history to have her first five studio albums debut at number one Beyoncé received critical acclaim and commercial success selling one million digital copies worldwide in six days The New York Times noted the albums unconventional unexpected release as significant Musically an electroRB album it concerns darker themes previously unexplored in her work such as bulimia postnatal depression and the fears and insecurities of marriage and motherhood The single Drunk in Love featuring Jay Z peaked at number two on the Billboard Hot 100 chart In April 2014 after much speculation in the weeks before Beyoncé and Jay Z officially announced their On the Run Tour It served as the couples first coheadlining stadium tour together On August 24 2014 she received the Video Vanguard Award at the 2014 MTV Video Music Awards Knowles also took home three competitive awards Best Video with a Social Message and Best Cinematography for Pretty Hurts as well as best collaboration for Drunk in Love In November Forbes reported that Beyoncé was the topearning woman in music for the second year in a rowearning 115 million in the year more than double her earnings in 2013 Beyoncé was reissued with new material in three forms as an extended play a box set as well as a full platinum edition',\n",
       "       'On February 6 2016 one day before her performance at the Super Bowl Beyoncé released a new single exclusively on music streaming service Tidal called Formation',\n",
       "       'On January 7 2012 Beyoncé gave birth to a daughter Blue Ivy Carter at Lenox Hill Hospital in New York under heavy security Two days later Jay Z released Glory a song dedicated to their child on his website Lifeandtimescom The song detailed the couples pregnancy struggles including a miscarriage Beyoncé suffered before becoming pregnant with Blue Ivy Blue Ivys cries are included at the end of the song and she was officially credited as BIC on it At two days old she became the youngest person ever to appear on a Billboard chart when Glory debuted on the Hot RBHipHop Songs chart',\n",
       "       'On January 7 2012 Beyoncé gave birth to her first child a daughter Blue Ivy Carter at Lenox Hill Hospital in New York Five months later she performed for four nights at Revel Atlantic Citys Ovation Hall to celebrate the resorts opening her first performances since giving birth to Blue Ivy',\n",
       "       'On March 30 2015 it was announced that Beyoncé is a coowner with various other music artists in the music streaming service Tidal The service specialises in lossless audio and high definition music videos Beyoncés husband Jay Z acquired the parent company of Tidal Aspiro in the first quarter of 2015 Including Beyoncé and JayZ sixteen artist stakeholders such as Kanye West Rihanna Madonna Chris Martin Nicki Minaj and more coown Tidal with the majority owning a 3 equity stake The idea of having an all artist owned streaming service was created by those involved to adapt to the increased demand for streaming within the current music industry and to rival other streaming services such as Spotify which have been criticised for their low payout of royalties The challenge is to get everyone to respect music again to recognize its value stated JayZ on the release of Tidal',\n",
       "       'She has received cowriting credits for most of the songs recorded with Destinys Child and her solo efforts Her early songs were personally driven and femaleempowerment themed compositions like Independent Women and Survivor but after the start of her relationship with Jay Z she transitioned to more mantending anthems such as Cater 2 U Beyoncé has also received coproducing credits for most of the records in which she has been involved especially during her solo efforts However she does not formulate beats herself but typically comes up with melodies and ideas during production sharing them with producers',\n",
       "       'The Bey Hive is the name given to Beyoncés fan base Fans were previously titled The Beyontourage a portmanteau of Beyoncé and entourage The name Bey Hive derives from the word beehive purposely misspelled to resemble her first name and was penned by fans after petitions on the online social networking service Twitter and online news reports during competitions',\n",
       "       'The feminism and female empowerment themes on Beyoncés second solo album BDay were inspired by her role in Dreamgirls and by singer Josephine Baker Beyoncé paid homage to Baker by performing Déjà Vu at the 2006 Fashion Rocks concert wearing Bakers trademark minihula skirt embellished with fake bananas Beyoncés third solo album I Am Sasha Fierce was inspired by Jay Z and especially by Etta James whose boldness inspired Beyoncé to explore other musical genres and styles Her fourth solo album 4 was inspired by Fela Kuti 1990s RB Earth Wind  Fire DeBarge Lionel Richie Teena Marie with additional influences by The Jackson 5 New Edition Adele Florence and the Machine and Prince',\n",
       "       'The group changed their name to Destinys Child in 1996 based upon a passage in the Book of Isaiah In 1997 Destinys Child released their major label debut song Killing Time on the soundtrack to the 1997 film Men in Black The following year the group released their selftitled debut album scoring their first major hit No No No The album established the group as a viable act in the music industry with moderate sales and winning the group three Soul Train Lady of Soul Awards for Best RBSoul Album of the Year Best RBSoul or Rap New Artist and Best RBSoul Single for No No No The group released their multiplatinum second album The Writings on the Wall in 1999 The record features some of the groups most widely known songs such as Bills Bills Bills the groups first numberone single Jumpin Jumpin and Say My Name which became their most successful song at the time and would remain one of their signature songs Say My Name won the Best RB Performance by a Duo or Group with Vocals and the Best RB Song at the 43rd Annual Grammy Awards The Writings on the Wall sold more than eight million copies worldwide During this time Beyoncé recorded a duet with Marc Nelson an original member of Boyz II Men on the song After All Is Said and Done for the soundtrack to the 1999 film The Best Man',\n",
       "       'The release of a videogame Starpower Beyoncé was cancelled after Beyoncé pulled out of a 100 million with GateFive who alleged the cancellation meant the sacking of 70 staff and millions of pounds lost in development It was settled out of court by her lawyers in June 2013 who said that they had cancelled because GateFive had lost its financial backers Beyoncé also has had deals with American Express Nintendo DS and LOréal since the age of 18',\n",
       "       'The remaining band members recorded Independent Women Part I which appeared on the soundtrack to the 2000 film Charlies Angels It became their bestcharting single topping the US Billboard Hot 100 chart for eleven consecutive weeks In early 2001 while Destinys Child was completing their third album Beyoncé landed a major role in the MTV madefortelevision film Carmen A Hip Hopera starring alongside American actor Mekhi Phifer Set in Philadelphia the film is a modern interpretation of the 19th century opera Carmen by French composer Georges Bizet When the third album Survivor was released in May 2001 Luckett and Roberson filed a lawsuit claiming that the songs were aimed at them The album debuted at number one on the US Billboard 200 with firstweek sales of 663000 copies sold The album spawned other numberone hits Bootylicious and the title track Survivor the latter of which earned the group a Grammy Award for Best RB Performance by a Duo or Group with Vocals After releasing their holiday album 8 Days of Christmas in October 2001 the group announced a hiatus to further pursue solo careers'],\n",
       "      dtype=object)"
      ]
     },
     "execution_count": 5,
     "metadata": {},
     "output_type": "execute_result"
    }
   ],
   "source": [
    "context_list"
   ]
  },
  {
   "cell_type": "code",
   "execution_count": 6,
   "metadata": {},
   "outputs": [],
   "source": [
    "from gpt4all import GPT4All\n",
    "model = GPT4All(\"/Users/mertakcay/Projects/Knowledge Graphs/KnowledgeGraphBuilder/mistral-7b-instruct-v0.1.Q4_0.gguf\")"
   ]
  },
  {
   "cell_type": "code",
   "execution_count": 7,
   "metadata": {},
   "outputs": [
    {
     "data": {
      "text/plain": [
       "'A selfdescribed modernday feminist Beyoncé creates songs that are often characterized by themes of love relationships and monogamy as well as female sexuality and empowerment On stage her dynamic highly choreographed performances have led to critics hailing her as one of the best entertainers in contemporary popular music Throughout a career spanning 19 years she has sold over 118 million records as a solo artist and a further 60 million with Destinys Child making her one of the bestselling music artists of all time She has won 20 Grammy Awards and is the most nominated woman in the awards history The Recording Industry Association of America recognized her as the Top Certified Artist in America during the 2000s decade In 2009 Billboard named her the Top Radio Songs Artist of the Decade the Top Female Artist of the 2000s and their Artist of the Millennium in 2011 Time listed her among the 100 most influential people in the world in 2013 and 2014 Forbes magazine also listed her as the most powerful female musician of 2015'"
      ]
     },
     "execution_count": 7,
     "metadata": {},
     "output_type": "execute_result"
    }
   ],
   "source": [
    "example_context = context_list[0]\n",
    "example_context"
   ]
  },
  {
   "cell_type": "code",
   "execution_count": 45,
   "metadata": {},
   "outputs": [
    {
     "name": "stdout",
     "output_type": "stream",
     "text": [
      "\n",
      "Extract Noun, Verb, Object between Tags from text: A selfdescribed modernday feminist Beyoncé creates songs that are often characterized by themes of love relationships and monogamy as well as female sexuality and empowerment On stage her dynamic highly choreographed performances have led to critics hailing her as one of the best entertainers in contemporary popular music Throughout a career spanning 19 years she has sold over 118 million records as a solo artist and a further 60 million with Destinys Child making her one of the bestselling music artists of all time She has won 20 Grammy Awards and is the most nominated woman in the awards history The Recording Industry Association of America recognized her as the Top Certified Artist in America during the 2000s decade In 2009 Billboard named her the Top Radio Songs Artist of the Decade the Top Female Artist of the 2000s and their Artist of the Millennium in 2011 Time listed her among the 100 most influential people in the world in 2013 and 2014 Forbes magazine also listed her as the most powerful female musician of 2015 in json format\n",
      "\n"
     ]
    }
   ],
   "source": [
    "prompt_ner = f'''\n",
    "Extract Noun, Verb, Object between Tags from text: {example_context} in json format\n",
    "'''\n",
    "print(prompt_ner)"
   ]
  },
  {
   "cell_type": "code",
   "execution_count": 46,
   "metadata": {},
   "outputs": [
    {
     "name": "stdout",
     "output_type": "stream",
     "text": [
      "{\n",
      "\"Nouns\": [\"Beyoncé\", \"feminist\", \"performances\", \"records\", \"Grammy Awards\", \"Radio Songs Artist\", \"Artist of the Millennium\", \"Forbes magazine\"],\n",
      "\"Verbs\": [\"creates\", \"have led to\", \"has sold\", \"are characterized by\", \"have won\", \"recognized as\", \"named\", \"listed\", \"is listed\", \"is recognized as\", \"is named\", \"is listed\", \"is the most powerful female musician of 2015\"],\n",
      "\"Objects\": [\"songs that are often characterized by themes of love relationships and monogamy as well as female sexuality and empowerment\", \"over 118 million records as a solo artist and a further 60 million with Destinys Child making her one of the bestselling music artists of all time\", \"20 Grammy Awards\", \"Top Certified Artist in America during the 2000s decade\", \"Billboard named her the Top Radio Songs Artist of the Decade\", \"the most influential people in the world in 2013 and 2014\", \"most powerful female musician of 2015\"]\n",
      "}\n"
     ]
    }
   ],
   "source": [
    "output = model.generate(prompt_ner, max_tokens=8192)\n",
    "print(output)"
   ]
  },
  {
   "cell_type": "code",
   "execution_count": 47,
   "metadata": {},
   "outputs": [
    {
     "data": {
      "text/plain": [
       "{'Nouns': ['Beyoncé',\n",
       "  'feminist',\n",
       "  'performances',\n",
       "  'records',\n",
       "  'Grammy Awards',\n",
       "  'Radio Songs Artist',\n",
       "  'Artist of the Millennium',\n",
       "  'Forbes magazine'],\n",
       " 'Verbs': ['creates',\n",
       "  'have led to',\n",
       "  'has sold',\n",
       "  'are characterized by',\n",
       "  'have won',\n",
       "  'recognized as',\n",
       "  'named',\n",
       "  'listed',\n",
       "  'is listed',\n",
       "  'is recognized as',\n",
       "  'is named',\n",
       "  'is listed',\n",
       "  'is the most powerful female musician of 2015'],\n",
       " 'Objects': ['songs that are often characterized by themes of love relationships and monogamy as well as female sexuality and empowerment',\n",
       "  'over 118 million records as a solo artist and a further 60 million with Destinys Child making her one of the bestselling music artists of all time',\n",
       "  '20 Grammy Awards',\n",
       "  'Top Certified Artist in America during the 2000s decade',\n",
       "  'Billboard named her the Top Radio Songs Artist of the Decade',\n",
       "  'the most influential people in the world in 2013 and 2014',\n",
       "  'most powerful female musician of 2015']}"
      ]
     },
     "execution_count": 47,
     "metadata": {},
     "output_type": "execute_result"
    }
   ],
   "source": [
    "import json\n",
    "output_json = json.loads(output)\n",
    "output_json"
   ]
  },
  {
   "cell_type": "code",
   "execution_count": 55,
   "metadata": {},
   "outputs": [
    {
     "name": "stdout",
     "output_type": "stream",
     "text": [
      "```json\n",
      "{\n",
      "    \"Nouns\": [\"Beyoncé\", \"feminist\", \"performances\", \"records\", \"Grammy Awards\", \"Radio Songs Artist\", \"Artist of the Millennium\", \"Forbes magazine\"],\n",
      "    \"Verbs\": [\"creates\", \"have led to\", \"has sold\", \"are characterized by\", \"have won\", \"recognized as\", \"named\", \"listed\", \"is listed\", \"is recognized as\", \"is named\", \"is listed\", \"is the most powerful female musician of 2015\"],\n",
      "    \"Objects\": [\"songs that are often characterized by themes of love relationships and monogamy as well as female sexuality and empowerment\", \"over 118 million records as a solo artist and a further 60 million with Destinys Child making her one of the bestselling music artists of all time\", \"20 Grammy Awards\", \"Top Certified Artist in America during the 2000s decade\", \"Billboard named her the Top Radio Songs Artist of the Decade\", \"the most influential people in the world in 2013 and 2014\", \"most powerful female musician of 2015\"]\n",
      "}\n",
      "```\n"
     ]
    }
   ],
   "source": [
    "# for verb in output_dict['Verb']:\n",
    "#     prompt_relationship = f'''\n",
    "#     Extract Relationship between: {output_dict['Subject'], verb} and {','.join(output_dict['Object'])} from {example_context}\n",
    "#     '''\n",
    "#     relationship_output = model.generate(prompt_relationship, max_tokens=512)\n",
    "#     print(relationship_output)\n",
    "    \n",
    "    \n",
    "# for verb in output_dict['Verb']:\n",
    "prompt_relationship = f'''\n",
    "Extract Relationship between: {output_json} json format\n",
    "'''\n",
    "relationship_output = model.generate(prompt_relationship, max_tokens=8192)\n",
    "print(relationship_output)"
   ]
  },
  {
   "cell_type": "code",
   "execution_count": null,
   "metadata": {},
   "outputs": [
    {
     "data": {
      "text/plain": [
       "[' Beyoncé creates music.',\n",
       " ' Beyoncé performs live shows.',\n",
       " ' Beyoncé sells merchandise and concert tickets.',\n",
       " ' Beyoncé wins awards for her work.',\n",
       " ' Beyoncé is recognized as a top artist in various categories.',\n",
       " ' Beyoncé is named one of the most influential people in music history.',\n",
       " \" Beyoncé's songs are listed on charts and playlists.\",\n",
       " ' Beyoncé has won Grammy Awards for her albums and singles.',\n",
       " \" Beyoncé's work spans multiple decades.\",\n",
       " ' Beyoncé is considered a top radio artist, with many of her songs becoming hits.',\n",
       " ' Beyoncé is often cited as the best female artist of all time.',\n",
       " ' Beyoncé has had a significant impact on popular culture and music for over two millennia.']"
      ]
     },
     "execution_count": 28,
     "metadata": {},
     "output_type": "execute_result"
    }
   ],
   "source": [
    "relationship_output.replace('-','').split('\\n')"
   ]
  },
  {
   "cell_type": "code",
   "execution_count": null,
   "metadata": {},
   "outputs": [
    {
     "name": "stdout",
     "output_type": "stream",
     "text": [
      "------------------\n",
      "    lemmatize('I have a dog that barks loudly.')\n",
      "    ['have', 'dog', 'bark']\n",
      "\n",
      "    lemmatize('The quick brown fox jumps over the lazy dog.')\n",
      "    ['quick', 'brown', 'fox', 'jump', 'lazy', 'dog']\n",
      "------------------\n",
      "    **Lemmatization** is the process of reducing a word to its base or dictionary form. This can be done using various algorithms and techniques, such as morphological analysis or statistical modeling. In natural language processing, lemmatization is often used to normalize text data by converting words to their root forms, which can help improve the accuracy of downstream tasks like information retrieval, sentiment analysis, and machine translation. Lemmatization can also be useful for reducing the dimensionality of word embeddings or for improving the performance of language models.\n",
      "\n",
      "    Lemmatization is the process of reducing a word to its base or dictionary form. This can be done manually, by looking up each word in a dictionary and finding the correct form, or automatically using software tools that use algorithms to determine the root form of a word based on its context and other linguistic features.\n",
      "    \n",
      "    Lemmatization is often used in natural language processing (NLP) tasks such as text classification, sentiment analysis, and machine translation. It can help improve the accuracy and efficiency of these tasks by reducing the number of unique words that need to be processed and analyzed.\n"
     ]
    },
    {
     "name": "stderr",
     "output_type": "stream",
     "text": [
      "Exception ignored on calling ctypes callback function: <function LLModel._callback_decoder.<locals>._raw_callback at 0x17d6b1940>\n",
      "Traceback (most recent call last):\n",
      "  File \"/Users/mertakcay/.pyenv/versions/3.9.18/envs/knowledge/lib/python3.9/site-packages/gpt4all/_pyllmodel.py\", line 393, in _raw_callback\n",
      "    def _raw_callback(token_id: int, response: bytes) -> bool:\n",
      "KeyboardInterrupt: \n"
     ]
    },
    {
     "name": "stdout",
     "output_type": "stream",
     "text": [
      "\n",
      "    - e\n",
      "    - e\n",
      "    - e\n",
      "    - e\n",
      "    - e\n",
      "    - e\n",
      "    - e\n",
      "    - e\n",
      "\n"
     ]
    }
   ],
   "source": [
    "for sentence in relationship_output:\n",
    "    prompt_lemminize = f'''\n",
    "    Lemminize text: {sentence}\n",
    "    '''\n",
    "    relationship_output = model.generate(prompt_lemminize, max_tokens=512)\n",
    "    print(relationship_output)"
   ]
  },
  {
   "cell_type": "code",
   "execution_count": null,
   "metadata": {},
   "outputs": [],
   "source": []
  }
 ],
 "metadata": {
  "kernelspec": {
   "display_name": "knowledge",
   "language": "python",
   "name": "python3"
  },
  "language_info": {
   "codemirror_mode": {
    "name": "ipython",
    "version": 3
   },
   "file_extension": ".py",
   "mimetype": "text/x-python",
   "name": "python",
   "nbconvert_exporter": "python",
   "pygments_lexer": "ipython3",
   "version": "3.9.18"
  }
 },
 "nbformat": 4,
 "nbformat_minor": 2
}
