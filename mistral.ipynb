{
 "cells": [
  {
   "cell_type": "code",
   "execution_count": 2,
   "metadata": {},
   "outputs": [],
   "source": [
    "import re\n",
    "import pandas as pd\n",
    "\n",
    "beyonce_df = pd.read_csv('/Users/mertakcay/Projects/Knowledge Graphs/Neo4j/context.csv')\n",
    "context_list = beyonce_df['context'].apply(lambda x : re.sub(r'[^\\w\\s]', '', x))"
   ]
  },
  {
   "cell_type": "code",
   "execution_count": 3,
   "metadata": {},
   "outputs": [],
   "source": [
    "from gpt4all import GPT4All\n",
    "model = GPT4All(\"/Users/mertakcay/Projects/Knowledge Graphs/KnowledgeGraphBuilder/mistral-7b-instruct-v0.1.Q4_0.gguf\")"
   ]
  },
  {
   "cell_type": "code",
   "execution_count": 4,
   "metadata": {},
   "outputs": [],
   "source": [
    "example_term = \"\"\"\n",
    "Beyoncé, Destiny's Child\n",
    "\"\"\"\n",
    "example_groups = \"\"\"\n",
    "Person: Beyoncé, Marc Nelson\n",
    "Group: Destiny's Child, Boyz II Men\n",
    "\"\"\"\n",
    "example_relation =\"\"\"\n",
    "part_of (Person, Group): Marc Nelson part_of Boyz II Men\n",
    "\"\"\""
   ]
  },
  {
   "cell_type": "code",
   "execution_count": 8,
   "metadata": {},
   "outputs": [
    {
     "ename": "SyntaxError",
     "evalue": "invalid syntax (2573736816.py, line 1)",
     "output_type": "error",
     "traceback": [
      "\u001b[0;36m  Cell \u001b[0;32mIn[8], line 1\u001b[0;36m\u001b[0m\n\u001b[0;31m    Step 2: Group term list like {example_groups} Step 3: Extract relationship between groups like {example_relation} from {context}\u001b[0m\n\u001b[0m         ^\u001b[0m\n\u001b[0;31mSyntaxError\u001b[0m\u001b[0;31m:\u001b[0m invalid syntax\n"
     ]
    }
   ],
   "source": [
    "Step 2: Group term list like {example_groups} Step 3: Extract relationship between groups like {example_relation} from {context}"
   ]
  },
  {
   "cell_type": "code",
   "execution_count": 4,
   "metadata": {},
   "outputs": [
    {
     "name": "stdout",
     "output_type": "stream",
     "text": [
      "\n",
      "    {\n",
      "        \"Subject\": \"Beyoncé Giselle KnowlesCarter\",\n",
      "        \"Predicate\": \"born September 4, 1981 is an American singer-songwriter record producer and actress born and raised in Houston, Texas. She performed in various singing and dancing competitions as a child and rose to fame in the late 1990s as lead singer of RB girlgroup Destinys Child.\",\n",
      "        \"Object\": null\n",
      "    }\n",
      "----\n",
      "\n",
      "    Subject: Beyoncé\n",
      "    Predicate: released her second solo album BDay, ventured into acting with a Golden Globenominated performance in Dreamgirls, starred in The Pink Panther and Obsessed, married rapper Jay Z, portrayed Etta James in Cadillac Records, took over management of her career, released fourth album 4, released critically acclaimed fifth studio album Beyoncé\n",
      "    Object: BDay, Dreamgirls, The Pink Panther, Obsessed, Jay Z, Etta James, Cadillac Records, 4, Beyoncé\n",
      "----\n",
      "\n",
      "    {\n",
      "        \"Subject\": \"Beyoncé\",\n",
      "        \"Predicate\": [\n",
      "            \"creates songs that are often characterized by themes of love relationships and monogamy as well as female sexuality and empowerment\",\n",
      "            \"has sold over 118 million records as a solo artist and a further 60 million with Destinys Child making her one of the bestselling music artists of all time\",\n",
      "            \"has won 20 Grammy Awards and is the most nominated woman in the awards history\",\n",
      "            \"was recognized by the Recording Industry Association of America as the Top Certified Artist in America during the 2000s decade\",\n",
      "            \"was named the Top Radio Songs Artist of the Decade, the Top Female Artist of the 2000s and their Artist of the Millennium in 2011 by Billboard\",\n",
      "            \"was listed among the 100 most influential people in the world in 2013 and 2014 by Time magazine\",\n",
      "            \"was listed as the most powerful female musician of 2015 by Forbes magazine\"\n",
      "        ],\n",
      "        \"Object\": null\n",
      "    }\n",
      "----\n",
      "\n",
      "    {\n",
      "        \"Subject\": \"Beyoncé\",\n",
      "        \"Predicate\": [\"attended\", \"enrolled\"],\n",
      "        \"Object\": [\n",
      "            {\"School\": \"St Marys Elementary School in Fredericksburg Texas where she enrolled in dance classes\"},\n",
      "            {\"School\": \"Parker Elementary School a music magnet school in Houston where she would perform with the schools choir\"}\n",
      "        ]\n",
      "    }\n",
      "----\n",
      " {\n",
      "        \"Subject\": \"Beyoncé\",\n",
      "        \"Predicate\": \"met LaTavia Roberson while in an audition for an allgirl entertainment group\",\n",
      "        \"Object\": null\n",
      "    },\n",
      "    {\n",
      "        \"Subject\": \"Girls Tyme\",\n",
      "        \"Predicate\": \"failed to win on Star Search\",\n",
      "        \"Object\": null\n",
      "    },\n",
      "    {\n",
      "        \"Subject\": \"Beyoncé\",\n",
      "        \"Predicate\": \"got a contract with Columbia Records\",\n",
      "        \"Object\": null\n",
      "    }\n",
      "----\n"
     ]
    },
    {
     "name": "stderr",
     "output_type": "stream",
     "text": [
      "Exception ignored on calling ctypes callback function: <function LLModel._callback_decoder.<locals>._raw_callback at 0x137fc99d0>\n",
      "Traceback (most recent call last):\n",
      "  File \"/Users/mertakcay/.pyenv/versions/3.9.18/envs/knowledge/lib/python3.9/site-packages/gpt4all/_pyllmodel.py\", line 393, in _raw_callback\n",
      "    def _raw_callback(token_id: int, response: bytes) -> bool:\n",
      "KeyboardInterrupt: \n"
     ]
    },
    {
     "name": "stdout",
     "output_type": "stream",
     "text": [
      " {\n",
      "        \"Subject\": \"Dest\n",
      "----\n"
     ]
    }
   ],
   "source": [
    "for context in context_list:\n",
    "    prompt_ner = f'''\n",
    "    Extract <Subject, Predicate, Object> from {context} in json format\n",
    "    '''\n",
    "    output = model.generate(prompt_ner, max_tokens=8192)\n",
    "    print(output)\n",
    "    print(\"----\")"
   ]
  },
  {
   "cell_type": "code",
   "execution_count": null,
   "metadata": {},
   "outputs": [],
   "source": []
  }
 ],
 "metadata": {
  "kernelspec": {
   "display_name": "knowledge",
   "language": "python",
   "name": "python3"
  },
  "language_info": {
   "codemirror_mode": {
    "name": "ipython",
    "version": 3
   },
   "file_extension": ".py",
   "mimetype": "text/x-python",
   "name": "python",
   "nbconvert_exporter": "python",
   "pygments_lexer": "ipython3",
   "version": "3.9.18"
  }
 },
 "nbformat": 4,
 "nbformat_minor": 2
}
