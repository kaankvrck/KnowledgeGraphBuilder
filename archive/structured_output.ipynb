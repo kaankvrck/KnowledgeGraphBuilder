{
 "cells": [
  {
   "cell_type": "code",
   "execution_count": 13,
   "metadata": {},
   "outputs": [],
   "source": [
    "from langchain_community.llms import Ollama\n",
    "from langchain_core.pydantic_v1 import BaseModel, Field\n",
    "from langchain.prompts import PromptTemplate\n",
    "from typing import List, Optional"
   ]
  },
  {
   "cell_type": "code",
   "execution_count": 14,
   "metadata": {},
   "outputs": [],
   "source": [
    "llm = Ollama(model=\"gemma:7b\")"
   ]
  },
  {
   "cell_type": "markdown",
   "metadata": {},
   "source": [
    "### Extract Term List"
   ]
  },
  {
   "cell_type": "code",
   "execution_count": 47,
   "metadata": {},
   "outputs": [
    {
     "name": "stdout",
     "output_type": "stream",
     "text": [
      "Sure, here is the extracted unique term list from the text:\n",
      "\n",
      "- Beyoncé Giselle Knowles-Carter\n",
      "- American\n",
      "- Singer\n",
      "- Songwriter\n",
      "- Record producer\n",
      "- Actress\n",
      "- Houston\n",
      "- Texas\n",
      "- Destiny's Child\n",
      "- Mathew Knowles\n",
      "- World's\n",
      "- Best-selling\n",
      "- Girl-group\n",
      "- Hiatus\n",
      "- Dangerously in Love\n",
      "- Grammy Awards\n",
      "- Billboard Hot 100\n"
     ]
    }
   ],
   "source": [
    "import re\n",
    "python_pattern = r'python\\s*\\[(.*?)\\]\\s*'\n",
    "\n",
    "format = 'Convert output to list format'\n",
    "prompt = ChatPromptTemplate.from_messages([\n",
    "    (\"system\", \"You are ontologist. You are building Knowledge Graph from plain text.\"),\n",
    "    (\"system\", \"The Task is to extract unique term list from plain text.\"),\n",
    "    (\"user\", \"{input}\"),\n",
    "    (\"system\", \"Output MUST be only {format}\")        \n",
    "\n",
    "])\n",
    "chain = prompt | llm \n",
    "term_list = chain.invoke({\"input\": \"Beyoncé Giselle Knowles-Carter (born September 4, 1981) is an American singer, songwriter, record producer and actress. Born and raised in Houston, Texas, she performed in various singing and dancing competitions as a child, and rose to fame in the late 1990s as lead singer of R&B girl-group Destiny's Child. Managed by her father, Mathew Knowles, the group became one of the world's best-selling girl groups of all time. Their hiatus saw the release of Beyoncé's debut album, Dangerously in Love (2003), which established her as a solo artist worldwide, earned five Grammy Awards and featured the Billboard Hot 100 number-one singles 'Crazy in Love' and 'Baby Boy'.\",\n",
    "                     \"format\": format})\n",
    "print(term_list)\n"
   ]
  },
  {
   "cell_type": "markdown",
   "metadata": {},
   "source": []
  },
  {
   "cell_type": "code",
   "execution_count": 16,
   "metadata": {},
   "outputs": [
    {
     "name": "stdout",
     "output_type": "stream",
     "text": [
      "Query:  input_variables=['input', 'query'] partial_variables={'format_instructions': 'The output should be formatted as a YAML instance that conforms to the given JSON schema below.\\n\\n# Examples\\n## Schema\\n```\\n{\"title\": \"Players\", \"description\": \"A list of players\", \"type\": \"array\", \"items\": {\"$ref\": \"#/definitions/Player\"}, \"definitions\": {\"Player\": {\"title\": \"Player\", \"type\": \"object\", \"properties\": {\"name\": {\"title\": \"Name\", \"description\": \"Player name\", \"type\": \"string\"}, \"avg\": {\"title\": \"Avg\", \"description\": \"Batting average\", \"type\": \"number\"}}, \"required\": [\"name\", \"avg\"]}}}\\n```\\n## Well formatted instance\\n```\\n- name: John Doe\\n  avg: 0.3\\n- name: Jane Maxfield\\n  avg: 1.4\\n```\\n\\n## Schema\\n```\\n{\"properties\": {\"habit\": { \"description\": \"A common daily habit\", \"type\": \"string\" }, \"sustainable_alternative\": { \"description\": \"An environmentally friendly alternative to the habit\", \"type\": \"string\"}}, \"required\": [\"habit\", \"sustainable_alternative\"]}\\n```\\n## Well formatted instance\\n```\\nhabit: Using disposable water bottles for daily hydration.\\nsustainable_alternative: Switch to a reusable water bottle to reduce plastic waste and decrease your environmental footprint.\\n``` \\n\\nPlease follow the standard YAML formatting conventions with an indent of 2 spaces and make sure that the data types adhere strictly to the following JSON schema: \\n```\\n{\"properties\": {\"Entities\": {\"title\": \"Entities\", \"type\": \"array\", \"items\": {\"$ref\": \"#/definitions/Triplet\"}}}, \"required\": [\"Entities\"], \"definitions\": {\"Triplet\": {\"title\": \"Triplet\", \"type\": \"object\", \"properties\": {\"Subject\": {\"title\": \"Subject\", \"description\": \"The Subject which related with Object\", \"type\": \"string\"}, \"Predicate\": {\"title\": \"Predicate\", \"description\": \"The Relationship which connect between Object and Subject\", \"type\": \"string\"}, \"Object\": {\"title\": \"Object\", \"description\": \"The Object which related with Subject\", \"type\": \"string\"}}, \"required\": [\"Subject\", \"Predicate\", \"Object\"]}}}\\n```\\n\\nMake sure to always enclose the YAML output in triple backticks (```). Please do not add anything other than valid YAML output!'} template='You are a ontologist. You build knowledge graph from plain input. \\n{query} \\n{input} \\nThe format MUST be {format_instructions}'\n",
      "```\n",
      "```yaml\n",
      "\n",
      "{\n",
      "  \"title\": \"Beyoncé Giselle Knowles-Carter\",\n",
      "  \"description\": \"American singer, songwriter, record producer and actress\",\n",
      "  \"type\": \"object\",\n",
      "  \"properties\": {\n",
      "    \"name\": {\n",
      "      \"title\": \"Name\",\n",
      "      \"description\": \"Beyoncé Giselle Knowles-Carter\",\n",
      "      \"type\": \"string\"\n",
      "    },\n",
      "    \"born\": {\n",
      "      \"title\": \"Born\",\n",
      "      \"description\": \"September 4, 1981\",\n",
      "      \"type\": \"string\"\n",
      "    },\n",
      "    \"nationality\": {\n",
      "      \"title\": \"Nationality\",\n",
      "      \"description\": \"American\",\n",
      "      \"type\": \"string\"\n",
      "    },\n",
      "    \"occupation\": {\n",
      "      \"title\": \"Occupation\",\n",
      "      \"description\": \"Singer, songwriter, record producer and actress\",\n",
      "      \"type\": \"string\"\n",
      "    },\n",
      "    \"place_of_birth\": {\n",
      "      \"title\": \"Place of Birth\",\n",
      "      \"description\": \"Houston, Texas\",\n",
      "      \"type\": \"string\"\n",
      "    }\n",
      "  },\n",
      "  \"required\": [\"name\", \"born\", \"nationality\", \"occupation\", \"place_of_birth\"]\n",
      "}\n",
      "\n",
      "```\n"
     ]
    }
   ],
   "source": [
    "from langchain_core.prompts import ChatPromptTemplate\n",
    "query = \"\"\"\n",
    "     Task 1: Extract Entities from plain text \\n\n",
    "     Task 2: Group Entities according to semantic meaning of Entities\\n\n",
    "     Task 3: Extract relationship between Entities from plain text \\n\\n\"\"\"\n",
    "     \n",
    "yaml_parser = YamlOutputParser(pydantic_object=Entities)\n",
    "\n",
    "prompt = PromptTemplate(\n",
    "    template=\"You are a ontologist. You build knowledge graph from plain input. \\n{query} \\n{input} \\nThe format MUST be {format_instructions}\",\n",
    "    input_variables=[\"query\",\"input\"],\n",
    "    partial_variables={\"format_instructions\": yaml_parser.get_format_instructions()},\n",
    ")\n",
    "print('Query: ', prompt)\n",
    "chain = prompt | llm \n",
    "entities = chain.invoke({\"input\": \"Beyoncé Giselle Knowles-Carter (born September 4, 1981) is an American singer, songwriter, record producer and actress. Born and raised in Houston, Texas, she performed in various singing and dancing competitions as a child, and rose to fame in the late 1990s as lead singer of R&B girl-group Destiny's Child. Managed by her father, Mathew Knowles, the group became one of the world's best-selling girl groups of all time. Their hiatus saw the release of Beyoncé's debut album, Dangerously in Love (2003), which established her as a solo artist worldwide, earned five Grammy Awards and featured the Billboard Hot 100 number-one singles 'Crazy in Love' and 'Baby Boy'.\",\n",
    "                         \"query\":query})\n",
    "print(entities)"
   ]
  },
  {
   "cell_type": "code",
   "execution_count": 7,
   "metadata": {},
   "outputs": [
    {
     "name": "stdout",
     "output_type": "stream",
     "text": [
      "Sure, here is the extracted dictionary with tags for each entity in the text:\n",
      "\n",
      "```python\n",
      "entities_with_tags = {\n",
      "    \"Beyoncé Giselle Knowles-Carter\": {\"type\": \"person\"},\n",
      "    \"American singer\": {\"type\": \"occupation\"},\n",
      "    \"Songwriter\": {\"type\": \"occupation\"},\n",
      "    \"Record producer\": {\"type\": \"occupation\"},\n",
      "    \"Actress\": {\"type\": \"occupation\"},\n",
      "    \"Houston\": {\"type\": \"location\"},\n",
      "    \"Texas\": {\"type\": \"location\"},\n",
      "    \"Destiny's Child\": {\"type\": \"group\"},\n",
      "    \"Mathew Knowles\": {\"type\": \"person\"},\n",
      "    \"Girl-group\": {\"type\": \"group\"},\n",
      "    \"World's best-selling girl groups\": {\"type\": \"group\"},\n",
      "    \"Dangerously in Love\": {\"type\": \"album\"},\n",
      "    \"Grammy Awards\": {\"type\": \"award\"},\n",
      "}\n",
      "```\n"
     ]
    }
   ],
   "source": [
    "prompt = ChatPromptTemplate.from_messages([\n",
    "    (\"system\", \"Add tag to each of entities from plain input. \\nThe output MUST be dictionary format.\"),\n",
    "    (\"system\", \"{entities}\"),        \n",
    "    (\"user\", \"{input}\")\n",
    "])\n",
    "chain = prompt | llm \n",
    "tags = chain.invoke({\"input\": \"Beyoncé Giselle Knowles-Carter (born September 4, 1981) is an American singer, songwriter, record producer and actress. Born and raised in Houston, Texas, she performed in various singing and dancing competitions as a child, and rose to fame in the late 1990s as lead singer of R&B girl-group Destiny's Child. Managed by her father, Mathew Knowles, the group became one of the world's best-selling girl groups of all time. Their hiatus saw the release of Beyoncé's debut album, Dangerously in Love (2003), which established her as a solo artist worldwide, earned five Grammy Awards and featured the Billboard Hot 100 number-one singles 'Crazy in Love' and 'Baby Boy'.\",\n",
    "                     \"entities\": entities})\n",
    "print(tags)"
   ]
  },
  {
   "cell_type": "code",
   "execution_count": null,
   "metadata": {},
   "outputs": [],
   "source": []
  }
 ],
 "metadata": {
  "kernelspec": {
   "display_name": "ollama",
   "language": "python",
   "name": "python3"
  },
  "language_info": {
   "codemirror_mode": {
    "name": "ipython",
    "version": 3
   },
   "file_extension": ".py",
   "mimetype": "text/x-python",
   "name": "python",
   "nbconvert_exporter": "python",
   "pygments_lexer": "ipython3",
   "version": "3.9.18"
  }
 },
 "nbformat": 4,
 "nbformat_minor": 2
}
