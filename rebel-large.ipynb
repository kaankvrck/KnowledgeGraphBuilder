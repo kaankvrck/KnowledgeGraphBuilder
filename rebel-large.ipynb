{
 "cells": [
  {
   "cell_type": "code",
   "execution_count": 1,
   "metadata": {},
   "outputs": [],
   "source": [
    "from transformers import pipeline\n",
    "# Function to parse the generated text and extract the triplets\n",
    "def extract_triplets(text):\n",
    "    triplets = []\n",
    "    relation, subject, relation, object_ = '', '', '', ''\n",
    "    text = text.strip()\n",
    "    current = 'x'\n",
    "    for token in text.replace(\"<s>\", \"\").replace(\"<pad>\", \"\").replace(\"</s>\", \"\").split():\n",
    "        if token == \"<triplet>\":\n",
    "            current = 't'\n",
    "            if relation != '':\n",
    "                triplets.append({'head': subject.strip(), 'type': relation.strip(),'tail': object_.strip()})\n",
    "                relation = ''\n",
    "            subject = ''\n",
    "        elif token == \"<subj>\":\n",
    "            current = 's'\n",
    "            if relation != '':\n",
    "                triplets.append({'head': subject.strip(), 'type': relation.strip(),'tail': object_.strip()})\n",
    "            object_ = ''\n",
    "        elif token == \"<obj>\":\n",
    "            current = 'o'\n",
    "            relation = ''\n",
    "        else:\n",
    "            if current == 't':\n",
    "                subject += ' ' + token\n",
    "            elif current == 's':\n",
    "                object_ += ' ' + token\n",
    "            elif current == 'o':\n",
    "                relation += ' ' + token\n",
    "    if subject != '' and relation != '' and object_ != '':\n",
    "        triplets.append({'head': subject.strip(), 'type': relation.strip(),'tail': object_.strip()})\n",
    "    return triplets\n"
   ]
  },
  {
   "cell_type": "code",
   "execution_count": 2,
   "metadata": {},
   "outputs": [],
   "source": [
    "import re\n",
    "import pandas as pd\n",
    "\n",
    "beyonce_df = pd.read_csv('/Users/mertakcay/Projects/Knowledge Graphs/Neo4j/context.csv')\n",
    "context_list = beyonce_df['context'].apply(lambda x : re.sub(r'[^\\w\\s]', '', x))"
   ]
  },
  {
   "cell_type": "code",
   "execution_count": 3,
   "metadata": {},
   "outputs": [
    {
     "name": "stdout",
     "output_type": "stream",
     "text": [
      "[{'head': 'Destinys Child Managed', 'type': 'has part', 'tail': 'Mathew Knowles'}, {'head': 'Dangerously in Love 2003', 'type': 'publication date', 'tail': '2003'}, {'head': 'Crazy in Love', 'type': 'performer', 'tail': 'Destinys Child Managed'}, {'head': 'Crazy in Love', 'type': 'part of', 'tail': 'Dangerously in Love 2003'}, {'head': 'Baby Boy', 'type': 'performer', 'tail': 'Destinys Child Managed'}, {'head': 'Baby Boy', 'type': 'part of', 'tail': 'Dangerously in Love 2003'}]\n",
      "[{'head': 'Déjà Vu Irreplaceable', 'type': 'part of', 'tail': 'BDay 2006'}, {'head': 'Déjà Vu Irreplaceable', 'type': 'followed by', 'tail': 'Beautiful Liar'}, {'head': 'Beautiful Liar', 'type': 'part of', 'tail': 'BDay 2006'}, {'head': 'Beautiful Liar', 'type': 'follows', 'tail': 'Déjà Vu Irreplaceable'}, {'head': 'Dreamgirls 2006', 'type': 'publication date', 'tail': '2006'}, {'head': 'Dreamgirls 2006', 'type': 'publication date', 'tail': '2006'}, {'head': 'Dreamgirls 2006', 'type': 'publication date', 'tail': '2006'}, {'head': 'The Pink Panther 2006', 'type': 'publication date', 'tail': '2006'}, {'head': 'The Pink Panther 2006', 'type': 'publication date', 'tail': '2006'}, {'head': 'Obsessed 2009', 'type': 'followed by', 'tail': 'Beyoncé 2013'}, {'head': 'Jay Z', 'type': 'record label', 'tail': 'Cadillac Records'}]\n",
      "[{'head': 'Beyoncé', 'type': 'member of', 'tail': 'Destinys Child'}, {'head': 'Destinys Child', 'type': 'has part', 'tail': 'Beyoncé'}]\n",
      "[{'head': 'St Marys Elementary School', 'type': 'located in the administrative territorial entity', 'tail': 'Fredericksburg Texas'}, {'head': 'Parker Elementary School', 'type': 'located in the administrative territorial entity', 'tail': 'Houston'}, {'head': 'High School for the Performing and Visual Arts', 'type': 'located in the administrative territorial entity', 'tail': 'Houston'}, {'head': 'Alief Elsik High School', 'type': 'located in the administrative territorial entity', 'tail': 'Houston'}]\n",
      "[{'head': 'Sony Music', 'type': 'subsidiary', 'tail': 'Columbia Records'}, {'head': 'Columbia Records', 'type': 'parent organization', 'tail': 'Sony Music'}]\n",
      "[{'head': 'Destinys Child', 'type': 'work period (start)', 'tail': '1996'}, {'head': 'Destinys Child', 'type': 'work period (start)', 'tail': '1996'}, {'head': 'Killing Time', 'type': 'performer', 'tail': 'Destinys Child'}, {'head': 'Killing Time', 'type': 'performer', 'tail': 'Destinys Child'}, {'head': 'Killing Time', 'type': 'publication date', 'tail': '1997'}, {'head': 'Killing Time', 'type': 'publication date', 'tail': '1997'}, {'head': 'Men in Black', 'type': 'publication date', 'tail': '1997'}, {'head': 'Men in Black', 'type': 'publication date', 'tail': '1997'}, {'head': 'selftitled debut album', 'type': 'performer', 'tail': 'Destinys Child'}, {'head': 'selftitled debut album', 'type': 'performer', 'tail': 'Destinys Child'}, {'head': 'No No No', 'type': 'performer', 'tail': 'Destinys Child'}]\n",
      "[{'head': 'Farrah Franklin', 'type': 'sibling', 'tail': 'Beyoncé Rowland'}, {'head': 'Michelle Williams', 'type': 'sibling', 'tail': 'Beyoncé Rowland'}, {'head': 'Beyoncé Rowland', 'type': 'sibling', 'tail': 'Farrah Franklin'}, {'head': 'Beyoncé Rowland', 'type': 'sibling', 'tail': 'Michelle Williams'}]\n",
      "[{'head': 'Carmen', 'type': 'composer', 'tail': 'Georges Bizet'}, {'head': 'Georges Bizet', 'type': 'notable work', 'tail': 'Carmen'}, {'head': 'Bootylicious', 'type': 'part of', 'tail': 'Survivor'}, {'head': 'Survivor', 'type': 'part of', 'tail': 'Survivor'}]\n",
      "[{'head': 'Austin Powers', 'type': 'cast member', 'tail': 'Mike Myers'}, {'head': 'Goldmember', 'type': 'cast member', 'tail': 'Mike Myers'}, {'head': 'The Fighting Temptations', 'type': 'cast member', 'tail': 'Cuba Gooding Jr'}]\n",
      "[{'head': 'Dangerously in Love', 'type': 'publication date', 'tail': 'June 24 2003'}, {'head': 'Crazy in Love featuring Jay Z', 'type': 'part of', 'tail': 'Dangerously in Love'}, {'head': 'Crazy in Love featuring Jay Z', 'type': 'part of', 'tail': 'Dangerously in Love'}, {'head': 'Baby Boy', 'type': 'part of', 'tail': 'Dangerously in Love'}, {'head': 'Baby Boy', 'type': 'part of', 'tail': 'Dangerously in Love'}, {'head': 'Me Myself and I', 'type': 'part of', 'tail': 'Dangerously in Love'}, {'head': 'Me Myself and I', 'type': 'part of', 'tail': 'Dangerously in Love'}, {'head': 'Naughty Girl', 'type': 'part of', 'tail': 'Dangerously in Love'}, {'head': 'Naughty Girl', 'type': 'part of', 'tail': 'Dangerously in Love'}]\n",
      "[{'head': 'Super Bowl XXXVIII', 'type': 'location', 'tail': 'Reliant Stadium'}, {'head': 'Super Bowl XXXVIII', 'type': 'located in the administrative territorial entity', 'tail': 'Houston Texas'}, {'head': 'Reliant Stadium', 'type': 'located in the administrative territorial entity', 'tail': 'Houston Texas'}, {'head': 'Destiny Fulfilled', 'type': 'performer', 'tail': 'Destinys Child'}, {'head': 'Destiny Fulfilled', 'type': 'performer', 'tail': 'Destinys Child'}, {'head': 'Lose My Breath', 'type': 'part of', 'tail': 'Destiny Fulfilled'}, {'head': 'Lose My Breath', 'type': 'performer', 'tail': 'Destinys Child'}, {'head': 'Lose My Breath', 'type': 'performer', 'tail': 'Destinys Child'}, {'head': 'Soldier', 'type': 'part of', 'tail': 'Destiny Fulfilled'}, {'head': 'Soldier', 'type': 'performer', 'tail': 'Destinys Child'}, {'head': 'Soldier', 'type': 'performer', 'tail': 'Destin'}]\n",
      "[{'head': 'BDay', 'type': 'performer', 'tail': 'Beyoncé'}, {'head': 'Déjà Vu', 'type': 'performer', 'tail': 'Beyoncé'}, {'head': 'Déjà Vu', 'type': 'part of', 'tail': 'BDay'}, {'head': 'Déjà Vu', 'type': 'performer', 'tail': 'Jay Z'}, {'head': 'Irreplaceable', 'type': 'performer', 'tail': 'Beyoncé'}, {'head': 'Irreplaceable', 'type': 'part of', 'tail': 'BDay'}, {'head': 'Ring the Alarm Get Me Bodied', 'type': 'performer', 'tail': 'Beyoncé'}, {'head': 'Ring the Alarm Get Me Bodied', 'type': 'part of', 'tail': 'BDay'}, {'head': 'Green Light', 'type': 'performer', 'tail': 'Beyoncé'}, {'head': 'Green Light', 'type': 'part of', 'tail': 'BDay'}]\n",
      "[{'head': 'The Pink Panther', 'type': 'cast member', 'tail': 'Steve Martin'}, {'head': 'Dreamgirls', 'type': 'cast member', 'tail': 'Jennifer Hudson'}, {'head': 'Dreamgirls', 'type': 'cast member', 'tail': 'Jamie Foxx'}, {'head': 'Dreamgirls', 'type': 'cast member', 'tail': 'Eddie Murphy'}]\n",
      "[{'head': '2009 MTV Video Music Awards', 'type': 'point in time', 'tail': '2009'}, {'head': '2009 MTV Video Music Awards', 'type': 'point in time', 'tail': '2009'}, {'head': '2009 MTV Video Music Awards', 'type': 'point in time', 'tail': '2009'}, {'head': 'Taylor Swifts You Belong with Me', 'type': 'genre', 'tail': 'country pop'}]\n",
      "[{'head': 'Cadillac Records', 'type': 'publication date', 'tail': '2008'}, {'head': 'Obsessed', 'type': 'cast member', 'tail': 'Ali Larter'}, {'head': 'Obsessed', 'type': 'cast member', 'tail': 'Idris Elba'}]\n",
      "[{'head': 'I Am Sasha Fierce Record of the Year', 'type': 'performer', 'tail': 'Beyoncé'}, {'head': 'Halo', 'type': 'performer', 'tail': 'Beyoncé'}, {'head': 'Telephone', 'type': 'performer', 'tail': 'Lady Gagas'}, {'head': 'Best Pop Collaboration with Vocals', 'type': 'instance of', 'tail': 'Grammy Award'}]\n",
      "[{'head': 'Great Wall of China', 'type': 'country', 'tail': 'Egypt'}]\n",
      "[{'head': '2011 Glastonbury Festival', 'type': 'point in time', 'tail': '2011'}, {'head': '2011 Glastonbury Festival', 'type': 'point in time', 'tail': '2011'}]\n",
      "[{'head': '4', 'type': 'publication date', 'tail': 'June 28 2011'}, {'head': 'Run the World Girls', 'type': 'part of', 'tail': '4'}, {'head': 'Run the World Girls', 'type': 'followed by', 'tail': 'Best Thing I Never Had'}, {'head': 'Best Thing I Never Had', 'type': 'part of', 'tail': '4'}, {'head': 'Best Thing I Never Had', 'type': 'follows', 'tail': 'Run the World Girls'}, {'head': 'Best Thing I Never Had', 'type': 'followed by', 'tail': 'Love on Top'}, {'head': 'Love on Top', 'type': 'part of', 'tail': '4'}, {'head': 'Love on Top', 'type': 'follows', 'tail': 'Best Thing I Never Had'}, {'head': 'Party Countdown I Care', 'type': 'part of', 'tail': '4'}, {'head': 'Party Countdown I Care', 'type': 'followed by', 'tail': 'End of Time Eat Play Love'}]\n",
      "[{'head': 'Beyoncé', 'type': 'child', 'tail': 'Blue Ivy Carter'}, {'head': 'Blue Ivy Carter', 'type': 'mother', 'tail': 'Beyoncé'}]\n",
      "[{'head': 'Love Songs', 'type': 'performer', 'tail': 'Destinys Child'}, {'head': 'second inauguration', 'type': 'located in the administrative territorial entity', 'tail': 'Washington DC'}, {'head': 'MercedesBenz Superdome', 'type': 'located in the administrative territorial entity', 'tail': 'New Orleans'}, {'head': 'Life Is But a Dream', 'type': 'distributed by', 'tail': 'HBO'}, {'head': 'Life Is But a Dream', 'type': 'publication date', 'tail': 'February 16 2013'}]\n",
      "[{'head': 'Back to Black', 'type': 'performer', 'tail': 'Amy Winehouses'}, {'head': 'Epic', 'type': 'production company', 'tail': '20th Century Fox'}, {'head': 'Rise Up', 'type': 'composer', 'tail': 'Sia'}]\n",
      "[{'head': 'Drunk in Love featuring Jay Z', 'type': 'part of', 'tail': 'On the Run Tour'}, {'head': 'On the Run Tour', 'type': 'has part', 'tail': 'Drunk in Love featuring Jay Z'}, {'head': '2014 MTV Video Music Awards', 'type': 'point in time', 'tail': '2014'}]\n",
      "[{'head': 'Morning Phase', 'type': 'performer', 'tail': 'Beck'}, {'head': 'Hymn for the Weekend', 'type': 'performer', 'tail': 'Coldplay'}, {'head': 'Hymn for the Weekend', 'type': 'part of', 'tail': 'A Head Full of Dreams 2015'}, {'head': 'Coldplay', 'type': 'notable work', 'tail': 'A Head Full of Dreams 2015'}, {'head': 'A Head Full of Dreams 2015', 'type': 'performer', 'tail': 'Coldplay'}]\n"
     ]
    }
   ],
   "source": [
    "triplets = list()\n",
    "for context in context_list:\n",
    "    triplet_extractor = pipeline('text2text-generation', model='Babelscape/rebel-large', tokenizer='Babelscape/rebel-large')\n",
    "    extracted_text = triplet_extractor.tokenizer.batch_decode([triplet_extractor(context,return_tensors=True, return_text=False)[0][\"generated_token_ids\"]])\n",
    "    extracted_triplets = extract_triplets(extracted_text[0])\n",
    "    print(extracted_triplets)\n",
    "    triplets.append(extracted_triplets)"
   ]
  },
  {
   "cell_type": "code",
   "execution_count": null,
   "metadata": {},
   "outputs": [],
   "source": []
  }
 ],
 "metadata": {
  "kernelspec": {
   "display_name": "knowledge",
   "language": "python",
   "name": "python3"
  },
  "language_info": {
   "codemirror_mode": {
    "name": "ipython",
    "version": 3
   },
   "file_extension": ".py",
   "mimetype": "text/x-python",
   "name": "python",
   "nbconvert_exporter": "python",
   "pygments_lexer": "ipython3",
   "version": "3.9.18"
  }
 },
 "nbformat": 4,
 "nbformat_minor": 2
}
