{
 "cells": [
  {
   "cell_type": "code",
   "execution_count": 3,
   "metadata": {},
   "outputs": [],
   "source": [
    "from langchain_community.llms import Ollama\n",
    "from langchain_core.output_parsers import JsonOutputParser\n",
    "from langchain.output_parsers import YamlOutputParser"
   ]
  },
  {
   "cell_type": "code",
   "execution_count": 4,
   "metadata": {},
   "outputs": [],
   "source": [
    "import pandas as pd\n",
    "import numpy as np"
   ]
  },
  {
   "cell_type": "code",
   "execution_count": 5,
   "metadata": {},
   "outputs": [],
   "source": [
    "llm = Ollama(model=\"gemma:7b\")"
   ]
  },
  {
   "cell_type": "code",
   "execution_count": 6,
   "metadata": {},
   "outputs": [],
   "source": [
    "from langchain_core.prompts import ChatPromptTemplate\n",
    "import re\n",
    "\n",
    "def extract_cypher_scripts(text):\n",
    "    cypher_list = list()\n",
    "    for line in text.split(\"\\n\"):\n",
    "        if 'CREATE' in line or 'MATCH' in line or 'CONNECT' in line:\n",
    "            cypher_list.append(line)\n",
    "            \n",
    "    return cypher_list"
   ]
  },
  {
   "cell_type": "code",
   "execution_count": 7,
   "metadata": {},
   "outputs": [],
   "source": [
    "from langchain_core.prompts import ChatPromptTemplate\n",
    "prompt = ChatPromptTemplate.from_messages([\n",
    "    (\"system\", \"You are a ontologist. You build knowledge graph from plain input. Create Knowledge Graph in Cypher Script\"),    \n",
    "    (\"user\", \"{input}\")\n",
    "])\n",
    "\n",
    "chain = prompt | llm"
   ]
  },
  {
   "cell_type": "code",
   "execution_count": 8,
   "metadata": {},
   "outputs": [
    {
     "name": "stdout",
     "output_type": "stream",
     "text": [
      "['CREATE ( artist:Person { name: \"Beyoncé Giselle Knowles-Carter\", born: 1981-09-04, nationality: \"American\", occupation: \"Singer, Songwriter, Record Producer, Actress\" } )', 'CREATE ( artist )-[:HAS_ORIGIN]->( place:Location { name: \"Houston, Texas\" } )', 'CREATE ( artist )-[:BECAME_KNOWN_FOR]->( achievement:Achievement { name: \"Lead singer of R&B girl-group Destiny\\'s Child\", accomplishment: \"Global fame and success\" } )', 'CREATE ( artist )-[:RECORDED_ALBUM]->( album:Album { name: \"Dangerously in Love\", year: 2003, singles: [\"Crazy in Love\", \"Baby Boy\"] } )', 'CREATE ( album )-[:WON_AWARDS]->( award:Award { name: \"Grammy Award\", quantity: 5 } )']\n",
      "*****************\n",
      "['CREATE (b:Beyoncé)', \"CREATE (sd:Destiny'sChild)\", \"CREATE (bd:B'Day {year: 2006})\", 'CREATE (d:Déjà Vu)', 'CREATE (i:Irreplaceable)', 'CREATE (bl:BeautifulLiar)', 'CREATE (dg:Dreamgirls {year: 2006})', 'CREATE (tp:The Pink Panther {year: 2006})', 'CREATE (o:Obsessed {year: 2009})', 'CREATE (cr:Cadillac Records {year: 2008})', 'CREATE (ia:I Am... Sasha Fierce {year: 2008})', 'CREATE (sl:Single Ladies (Put a Ring on It))', 'CREATE (f:Four {year: 2011})', 'CREATE (b:Beyoncé)<-[:HAS_ALBUM]-(bd)', 'CREATE (b)<-[:HAS_ALBUM]-(ia)', 'CREATE (b)<-[:HAS_ALBUM]-(f)', 'CREATE (sd)<-[:MEMBER_OF]-(b)', 'CREATE (b)<-[:ACTED_IN]-(dg)', 'CREATE (b)<-[:ACTED_IN]-(tp)', 'CREATE (b)<-[:ACTED_IN]-(o)', 'CREATE (b)<-[:ACTED_IN]-(cr)']\n",
      "*****************\n",
      "['* **Beyoncé creates music:** Music node is related to Beyoncé node with a CREATE relationship.']\n",
      "*****************\n",
      "['CREATE (b:Person {name: \"Beyoncé\"})', 'CREATE (sm:School {name: \"St. Mary\\'s Elementary School\"})', 'CREATE (ph:School {name: \"Parker Elementary School\"})', 'CREATE (hsp:School {name: \"High School for the Performing and Visual Arts\"})', 'CREATE (ae:School {name: \"Alief Elsik High School\"})', 'CREATE (stj:Church {name: \"St. John\\'s United Methodist Church\"})', 'CREATE (b)-[:ATTENDED]->(sm)', 'CREATE (b)-[:ENROLLED_IN]->(ph)', 'CREATE (b)-[:PERFORMED_IN]->(stj)', 'CREATE (b)-[:MEMBERSHIP]->(hsp)', 'CREATE (b)-[:MEMBERSHIP]->(ae)']\n",
      "*****************\n",
      "['CREATE ( artist:Artist { name: \"Beyonce\" } )', 'CREATE ( artist2:Artist { name: \"Kelly Rowland\" } )', 'CREATE ( artist3:Artist { name: \"LaTavia Roberson\" } )', 'CREATE ( group:Group { name: \"Girl\\'s Tyme\" } )', 'CREATE ( group2:Group { name: \"Star Search\" } )', 'CREATE ( event:Event { name: \"Talent Show Circuit\" } )', 'CREATE ( event2:Event { name: \"Record Label Auditions\" } )', 'CREATE ( relationship:BelongsTo { artist: artist, group: group } )', 'CREATE ( relationship2:BelongsTo { artist: artist2, group: group } )', 'CREATE ( relationship3:BelongsTo { artist: artist3, group: group } )', 'CREATE ( eventRelationship:HappensAt { event: event, group: group } )', 'CREATE ( eventRelationship2:HappensAt { event: event2, group: group } )', 'CREATE ( contract:Contract { name: \"Elektra Records\" } )', 'CREATE ( contract2:Contract { name: \"Atlanta Records\" } )', 'CREATE ( contractRelationship:SignedWith { artist: artist, contract: contract } )', 'CREATE ( contractRelationship2:SignedWith { artist: artist2, contract: contract2 } )', 'CREATE ( family:Family { name: \"Knowles Family\" } )', 'CREATE ( familyRelationship:MemberOf { artist: artist, family: family } )', 'CREATE ( familyRelationship2:MemberOf { artist2: artist2, family: family } )', 'CREATE ( eventDate:Date { date: \"October 5, 1995\" } )', 'CREATE ( eventDate2:Date { date: \"Unknown\" } )', 'CREATE ( relationship3:HappensOn { eventDate: eventDate, group: group } )', 'CREATE ( relationship4:HappensOn { eventDate2: eventDate2, group: group } )']\n",
      "*****************\n",
      "['CREATE (g:Group {name: \"Destiny\\'s Child\"})', 'CREATE (a:Album {name: \"No, No, No\"})', 'CREATE (s:Song {name: \"No, No, No\"})', 'CREATE (r:Record {name: \"The Writing\\'s on the Wall\"})', 'MATCH (g)', 'MATCH (a)', 'MATCH (s)', 'MATCH (r)', 'CREATE (g)-[:HAS_ALBUM]->(a)', 'CREATE (a)-[:HAS_SONG]->(s)', 'CREATE (a)-[:HAS_RECORD]->(r)', 'MATCH (r)']\n",
      "*****************\n",
      "['CREATE (b:Beyonce)', 'CREATE (m:Mathew)', 'CREATE (f:FarrahFranklin)', 'CREATE (w:MichelleWilliams)', 'CREATE (l:LeToyaLuckett)', 'MATCH (b) WITH b', 'MATCH (m) WITH m', 'MATCH (l) WITH l', 'MATCH (w) WITH w', 'CREATE (b)-[:MANAGES]->(m)', 'CREATE (l)-[:MANAGES]->(m)', 'CREATE (f)-[:REPLACED]->(b)', 'CREATE (w)-[:REPLACED]->(b)', 'CREATE (b)-[:EXPERienced]->(dl:Depression)', 'CREATE (dl)-[:LASTED_FOR]->(t:CoupleOfYears)', 'CREATE (t)-[:IN_BED]->(b)', 'CREATE (t)-[:REFUSED_TO_EAT]->(b)', 'CREATE (b)-[:STRUGGLED_TO_SPEAK]->(dl)', 'CREATE (b)-[:HELPED]->(mf:Mother)', 'MATCH (w) WITH w', 'CREATE (w)-[:LEFT]->(b)', 'MATCH (b) WITH b', \"CREATE (b)-[:GRAMMY_AWARD]->(dc:Destiny'sChild)\"]\n",
      "*****************\n",
      "['CREATE (artist:Artist {name: \"Destiny\\'s Child\"})', 'CREATE (album:Album {name: \"Survivor\", artist: artist})', 'CREATE (song:Song {name: \"Independent Women Part I\", artist: artist, album: album})', 'MATCH (song)', 'CREATE (beside:Artist {name: \"Beyoncé\"})', 'CREATE (film:Film {name: \"Carmen: A Hip Hopera\", star: beside})', 'MATCH (film)', 'CREATE (song2:Song {name: \"Bootylicious\", artist: artist, album: album})', 'CREATE (song3:Song {name: \"Survivor\", artist: artist, album: album})', 'MATCH (song3)', 'MATCH (album)']\n",
      "*****************\n",
      "['CREATE ( artist:Artist { name: \"Beyonce\" } )', 'CREATE ( movie:Movie { title: \"Austin Powers in Goldmember\", releaseYear: 2002 } )', 'CREATE ( soundtrackAlbum:SoundtrackAlbum { title: \"Austin Powers in Goldmember Soundtrack\", artist: artist, releaseYear: 2002 } )', 'CREATE ( artist )-[:STARS_IN]->(movie)', 'CREATE ( soundtrackAlbum )-[:CONTAINS]->(movie)', 'CREATE ( artist )-[:RELEASES]->(soundtrackAlbum)', 'CREATE (soundtrackAlbum) -[:ENTERED_TOP_TEN]->(UK)', 'CREATE (soundtrackAlbum) -[:ENTERED_TOP_TEN]->(Norway)', 'CREATE (soundtrackAlbum) -[:ENTERED_TOP_TEN]->(Belgium)', 'CREATE (movie) -[:Grossed]->( $30 million )']\n",
      "*****************\n",
      "['CREATE (artist:Artist {name: \"Beyoncé\"})', 'CREATE (album:Album {name: \"Dangerously in Love\", releaseDate: \"2003-06-24\"})', 'CREATE (artist)-[:HAS_ALBUM]->(album)', 'CREATE (album)-[:CONTAINS_SONG]->(song1:Song {name: \"Crazy in Love\"})', 'CREATE (song1)-[:Reached_Number_One]->(chartPosition:ChartPosition {position: 1})', 'CREATE (song2:Song {name: \"Baby Boy\"})-[:Reached_Number_One]->(chartPosition)', 'CREATE (song3:Song {name: \"Me, Myself and I\"})-[:Reached_Top_Five]->(chartPosition)', 'CREATE (song4:Song {name: \"Naughty Girl\"})-[:Reached_Top_Five]->(chartPosition)', 'CREATE (album)-[:EARNED_AWARDS]->(awards:Award {type: \"Grammy Award\", won: 5})']\n",
      "*****************\n",
      "['CREATE (b:Beyoncé {name: \"Beyoncé\"})', 'CREATE (dc:Destiny\\'sChild {name: \"Destiny\\'s Child\"})', 'CREATE (al:Album {name: \"Dangerously in Love\"})', 'CREATE (sb:SuperBowl {name: \"Super Bowl XXXVIII\"})', 'CREATE (rs:Stadium {name: \"Reliant Stadium\"})', 'CREATE (af:Album {name: \"Destiny Fulfilled\"})', 'CREATE (nc:NumberOne {name: \"Number 1\\'s\"})', 'MATCH (b)', 'MATCH (al)', 'MATCH (sb)', 'MATCH (rs)', 'MATCH (af)', 'MATCH (nc)', 'CREATE Relationship (b) -[:Performed] - (sb)', 'CREATE Relationship (al) -[:Planned] - (af)', 'CREATE Relationship (af) -[:PutOnHold] - (nc)', 'CREATE Relationship (dc) -[:EmbarkedOn] - (nc)', 'CREATE Relationship (nc) -[:Announced] - (dc)', 'CREATE Relationship (dc) -[:Released] - (nc)']\n",
      "*****************\n",
      "[\"CREATE (bdayAlbum:Album {name: 'B''Day', releaseDate: 'September 5, 2006', country: 'US'})\", \"CREATE (bdayAlbum)<-[:HAS_ALBUM]-(be Beyonce:Artist {name: 'Beyoncé'})\", \"CREATE (single1:Single {name: 'Déjà Vu', artist: 'Beyoncé', chartPosition: 5})\", 'CREATE (single1)<-[:HAS_SINGLE]-(bdayAlbum)', \"CREATE (single2:Single {name: 'Irreplaceable', artist: 'Beyoncé', chartPosition: 1})\", 'CREATE (single2)<-[:HAS_SINGLE]-(bdayAlbum)', \"CREATE (single3:Single {name: 'Ring the Alarm', artist: 'Beyoncé'})\", 'CREATE (single3)<-[:HAS_SINGLE]-(bdayAlbum)', \"CREATE (single4:Single {name: 'Get Me Bodied', artist: 'Beyoncé'})\", 'CREATE (single4)<-[:HAS_SINGLE]-(bdayAlbum)', \"CREATE (single5:Single {name: 'Green Light', artist: 'Beyoncé'})\", 'CREATE (single5)<-[:HAS_SINGLE]-(bdayAlbum)', 'MATCH (bdayAlbum) RETURN bdayAlbum']\n",
      "*****************\n",
      "['CREATE (be) <-- node:Beyonce {name: \"Beyonce\", yearOfBirth: null, nationality: null}', 'CREATE (fp) <-- node:FilmPoster {title: \"The Pink Panther\", year: 2006, gross: 158.8}', 'CREATE (dg) <-- node:FilmPoster {title: \"Dreamgirls\", year: 2006, gross: 154.0}', 'MATCH (be)', 'CREATE Relationship (be)-[:ACTED_IN]->(fp)', 'CREATE Relationship (be)-[:ACTED_IN]->(dg)', 'MATCH (fp)', 'CREATE Relationship (fp)-[:STARS_WITH]->(be)', 'MATCH (dg)', 'CREATE Relationship (dg)-[:STARS_WITH]->(be)', 'CREATE (sl) <-- node:Song {name: \"Listen\", artist: \"Beyonce\"}', 'CREATE Relationship (be)-[:PROMOTED]->(sl)']\n",
      "*****************\n",
      "['CREATE (artist:Artist {name: \"Beyoncé\"})', 'CREATE (album:Album {name: \"I Am... Sasha Fierce\", releaseDate: \"November 18, 2008\", artist: artist})', 'MATCH (artist)', 'CREATE (song:Song {title: \"Single Ladies (Put a Ring on It)\", artist: artist, album: album})', 'CREATE (song)<-[:SONG_OF]-(album)', 'MATCH (song)', 'CREATE (song)<-[:TOP_FIVE]-(album)', 'CREATE (song)<-[:NUMBER_ONE]-(album)', 'CREATE (tour:Tour {name: \"I Am... World Tour\", artist: artist, grossRevenue: 119.5})', 'MATCH (album)<-[:CONTAINS]-(tour)']\n",
      "*****************\n",
      "[\"CREATE (be Beyonce:Person {name: 'Beyonce', occupation: 'Singer'})\", \"CREATE (etJames:Person {name: 'Etta James', occupation: 'Blues Singer'})\", \"CREATE (cadRecords:Film {title: 'Cadillac Records', genre: 'Musical'})\", 'CREATE (be)<-[:STARS_IN]-(cadRecords)', 'CREATE (etJames)<-[:PORTRAYS]-(cadRecords)', \"CREATE (obsessed:Film {title: 'Obsessed', genre: 'Thriller'})\", \"CREATE (sharon:Character {name: 'Sharon Charles', occupation: 'Mother'})\", \"CREATE (idris:Character {name: 'Obsessed character'})\", 'CREATE (sharon)<-[:STARS_IN]-(obsessed)', 'CREATE (sharon)<-[:HAS_FIGHT_SCENE]-(obsessed)', 'CREATE (obsessed)<-[:MADE]-(boxOfficeGross:Gross {amount: 68000000})', \"CREATE (obsessed)<-[:WON]-(awardsWon:Award {type: 'MTV Movie Award', category: 'Best Fight'})\"]\n",
      "*****************\n",
      "['CREATE ( artist:Artist { name: \"Beyonce\" } )', 'CREATE ( album:Album { name: \"I Am... Sasha Fierce\", artist: artist } )', 'CREATE ( song:Song { name: \"Halo\", artist: artist, album: album } )', 'CREATE ( song2:Song { name: \"Single Ladies (Put a Ring on It)\", artist: artist, album: album } )', 'CREATE ( artist)-[:AWARDS]->(album)', 'CREATE (album)-[:AWARDS]->(song)', 'CREATE (song)-[:AWARDS]->(song2)', 'CREATE (song)-[:NUMBER_ONE]->(song2)', 'CREATE (song)-[:NUMBER_ONE]->(artist)']\n",
      "*****************\n",
      "['CREATE (be) ->> (mg) WITH be, mg', 'CREATE (be) ->> (hh) WITH be, hh', 'CREATE (be) ->> (pa) WITH be, pa', 'CREATE (be) ->> (hm) WITH be, hm', 'CREATE (be) ->> (py) WITH be, py', 'CREATE (be) ->> (au) WITH be, au', 'CREATE (be) ->> (mf) WITH be, mf', 'CREATE (be) ->> (bp) WITH be, bp']\n",
      "*****************\n",
      "['CREATE (b:Person {name: \"Beyonce\"})', 'CREATE (g:Ruler {name: \"Muammar Gaddafi\"})', 'CREATE (c:Organization {name: \"Clinton Bush Haiti Fund\"})', 'MATCH (b) <- [r:PERFORMED_FOR] -> (g)', 'MATCH (b) -> (c)', 'CREATE (p:Event {name: \"2011 Glastonbury Festival\"})', 'CREATE (p)<-[:HEADLINED]-(b)', 'CREATE (b)<-[:HIGHEST_PAID_PER_MINUTE]-(h:HighestPaidPerMinute {amount: \"Highest\"})']\n",
      "*****************\n",
      "['CREATE (artist:Artist {name: \"Beyoncé\"})', 'CREATE (album:Album {name: \"4\", releaseDate: \"2011-06-28\", artist: artist})', 'CREATE (song1:Song {name: \"Run the World (Girls)\", artist: artist, album: album})', 'CREATE (song2:Song {name: \"Best Thing I Never Had\", artist: artist, album: album})', 'CREATE (song3:Song {name: \"Love on Top\", artist: artist, album: album})', 'CREATE (song4:Song {name: \"Party\", artist: artist, album: album})', 'CREATE (song5:Song {name: \"Countdown\", artist: artist, album: album})', 'CREATE (song6:Song {name: \"I Care\", artist: artist, album: album})', 'CREATE (song7:Song {name: \"End of Time\", artist: artist, album: album})', 'CREATE (award:Award {name: \"Writing Award\", recipient: artist, category: \"Best Cover Story\"})', 'CREATE (concert:Concert {name: \"4 Intimate Nights with Beyoncé\", artist: artist, date: \"Late 2011\", location: \"New York\\'s Roseland Ballroom\"})']\n",
      "*****************\n",
      "['CREATE (b:Person {name: \"Beyoncé\"})', 'CREATE (bc:Person {name: \"Blue Ivy Carter\"})', 'CREATE (nh:Location {name: \"Lenox Hill Hospital\"})', 'CREATE (ny:Location {name: \"New York\"})', 'CREATE (rac:Location {name: \"Revel Atlantic City\"})', 'CREATE (oh:Location {name: \"Ovation Hall\"})']\n",
      "*****************\n",
      "['CREATE (artist:Artist {name: \"Beyoncé\"})', 'CREATE (album:Album {name: \"Love Songs\", artist: artist})', 'CREATE (song:Song {name: \"Nuclear\", artist: artist, album: album})', 'CREATE (event:Event {name: \"President Obama\\'s second inauguration\", date: \"January 2013\"})', 'CREATE (performance:Performance {name: \"American national anthem\", artist: artist, event: event})', 'CREATE (anotherEvent:Event {name: \"Super Bowl XLVII halftime show\", date: \"February 2013\"})', 'CREATE (anotherPerformance:Performance {name: \"Super Bowl XLVII halftime show\", artist: artist, event: anotherEvent})', 'CREATE (award:Award {name: \"Best Traditional R&B Performance\", artist: artist, date: \"February 2013\"})', 'CREATE (film:Film {name: \"Life Is But a Dream\", artist: artist, releaseDate: \"February 2013\"})', 'CREATE (songRelease:SongRelease {name: \"DVD release\", artist: artist, album: album, date: \"November 2013\"})', 'CREATE (songRelease:SongRelease {name: \"Revel Presents: Beyoncé Live\", artist: artist, album: album, date: \"November 2013\"})', 'CREATE (agreement:Agreement {name: \"Global publishing agreement\", artist: artist, date: \"February 2013\"})']\n",
      "*****************\n",
      "['CREATE (b:Person {name: \"Beyoncé\"})', 'CREATE (t:Tour {name: \"Mrs. Carter Show World Tour\"})', 'CREATE (c:Concert {date: \"April 15, 2013\", city: \"Belgrade, Serbia\"})', 'CREATE (a:Album {name: \"The Great Gatsby Soundtrack\"})', 'MATCH (b)', 'MATCH (t)', 'MATCH (c)', 'MATCH (a)', 'CREATE RELATIONSHIP (b) -[:EMBARKSED_ON]-> (c)', 'CREATE RELATIONSHIP (t) -[:CONTAINED]-> (c)', 'CREATE RELATIONSHIP (b) -[:RECORDED_SONG_FOR]-> (a)', 'CREATE RELATIONSHIP (b) -[:HONORARY_CHAIR]-> (a)', 'CREATE RELATIONSHIP (b) -[:VOICE_IN]-> (e)', 'CREATE (e:Film {name: \"Epic\"})', 'CREATE RELATIONSHIP (e) -[:CONTAINED_SONG]-> (a)']\n",
      "*****************\n",
      "[]\n",
      "*****************\n",
      "['CREATE (b:Artist {name: \"Beyonce\", nationality: \"American\"})', 'CREATE (a:Album {name: \"Drunk in Love\", genre: \"R&B\"})', 'CREATE (s:Song {name: \"Drunk in Love\"})', 'CREATE (surroundSoundAlbum:Album {name: \"Best Surround Sound Album\", genre: \"R&B\"})', 'MATCH (b)', 'CREATE Relationship (b)-[:WON]->(a)', 'CREATE Relationship (b)-[:NOMINATED]->(surroundSoundAlbum)', 'MATCH (a)', 'CREATE Relationship (a)-[:NOMINATED]->(surroundSoundAlbum)', 'CREATE Relationship (b)-[:HEADLINED]->(madeInAmericaFestival)', 'CREATE Relationship (b)-[:HEADLINED]->(globalCitizenFestival)', 'MATCH (b)', 'CREATE Relationship (coldplay:Band {name: \"Coldplay\"})-[:Featured_ON]->(s)', 'CREATE Relationship (a)-[:Featured_ON]->(s)', 'MATCH (b)', 'CREATE Relationship ( Pepsi:Company {name: \"Pepsi\"})-[:ANNOUNCED]->(b)', 'CREATE Relationship (Pepsi)-[:ANNOUNCED]->(coldplay)', 'CREATE Relationship (b)-[:PREVIOUSLY_PERFORMED_AT]->(superBowl47)', 'CREATE Relationship (b)-[:PERFORMED_AT]->(superBowl50)']\n",
      "*****************\n"
     ]
    }
   ],
   "source": [
    "contexts = pd.read_csv('/Users/mertakcay/Projects/KnowledgeGraphBuilder/context.csv')\n",
    "cypher_list = list()\n",
    "for context in contexts['context'].values:\n",
    "    output = chain.invoke({\"input\": context})\n",
    "    output = extract_cypher_scripts(output)\n",
    "    print(output)\n",
    "    cypher_list.append(output)\n",
    "    print('*****************')\n",
    "    # for sample in entities.split('\\n'):\n",
    "    #     if '-' in sample:\n",
    "    #         entity_list.append(sample.replace('- ',''))"
   ]
  },
  {
   "cell_type": "code",
   "execution_count": null,
   "metadata": {},
   "outputs": [],
   "source": []
  }
 ],
 "metadata": {
  "kernelspec": {
   "display_name": "ollama",
   "language": "python",
   "name": "python3"
  },
  "language_info": {
   "codemirror_mode": {
    "name": "ipython",
    "version": 3
   },
   "file_extension": ".py",
   "mimetype": "text/x-python",
   "name": "python",
   "nbconvert_exporter": "python",
   "pygments_lexer": "ipython3",
   "version": "3.9.18"
  }
 },
 "nbformat": 4,
 "nbformat_minor": 2
}
