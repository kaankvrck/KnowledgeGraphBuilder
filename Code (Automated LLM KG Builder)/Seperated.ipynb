{
 "cells": [
  {
   "cell_type": "code",
   "execution_count": 16,
   "metadata": {},
   "outputs": [],
   "source": [
    "from langchain_community.llms import Ollama\n",
    "from langchain_core.output_parsers import JsonOutputParser\n",
    "from langchain.output_parsers import YamlOutputParser\n",
    "\n",
    "import pandas as pd \n",
    "import numpy as np"
   ]
  },
  {
   "cell_type": "code",
   "execution_count": 17,
   "metadata": {},
   "outputs": [],
   "source": [
    "llm = Ollama(model=\"gemma:7b\")"
   ]
  },
  {
   "cell_type": "markdown",
   "metadata": {},
   "source": [
    "## Extract Term List from Plain Text"
   ]
  },
  {
   "cell_type": "code",
   "execution_count": 18,
   "metadata": {},
   "outputs": [
    {
     "name": "stdout",
     "output_type": "stream",
     "text": [
      "----\n",
      "----\n",
      "----\n",
      "----\n",
      "----\n",
      "----\n",
      "----\n",
      "----\n",
      "----\n",
      "----\n",
      "----\n",
      "----\n",
      "----\n",
      "----\n",
      "----\n",
      "----\n",
      "----\n",
      "----\n",
      "----\n",
      "----\n",
      "----\n",
      "----\n",
      "----\n",
      "----\n"
     ]
    }
   ],
   "source": [
    "from langchain_core.prompts import ChatPromptTemplate\n",
    "prompt = ChatPromptTemplate.from_messages([\n",
    "    (\"system\", \"You are a ontologist. You build knowledge graph from plain input. \\nExtract Entites from plain text.\"),\n",
    "    (\"system\", \"The format should be python list\"),    \n",
    "    (\"user\", \"{input}\")\n",
    "])\n",
    "chain = prompt | llm\n",
    "entity_context_list = list()\n",
    "\n",
    "contexts = pd.read_csv('/Users/mertakcay/Projects/KnowledgeGraphBuilder/context.csv')\n",
    "for context in contexts['context'].values:\n",
    "    entity_list = list()\n",
    "    entities = chain.invoke({\"input\": context})\n",
    "    for sample in entities.split('\\n'):\n",
    "        if '-' in sample:\n",
    "            entity_list.append(sample.replace('- ',''))\n",
    "    entity_context_list.append(entity_list)\n",
    "    print('----')"
   ]
  },
  {
   "cell_type": "code",
   "execution_count": 19,
   "metadata": {},
   "outputs": [
    {
     "data": {
      "text/plain": [
       "[['Beyoncé Giselle Knowles-Carter',\n",
       "  'Houston',\n",
       "  'Texas',\n",
       "  \"Destiny's Child\",\n",
       "  'Mathew Knowles',\n",
       "  'R&B',\n",
       "  'Grammy Awards'],\n",
       " [],\n",
       " [],\n",
       " [],\n",
       " [],\n",
       " [],\n",
       " [],\n",
       " [],\n",
       " [],\n",
       " [],\n",
       " [],\n",
       " [],\n",
       " [\"The text also includes information about the singer's pre-concert food donation drive and the concert date. It also includes information about the song that she will perform during the concert.\"],\n",
       " [],\n",
       " [],\n",
       " [],\n",
       " [],\n",
       " [],\n",
       " [],\n",
       " [],\n",
       " [],\n",
       " [],\n",
       " [],\n",
       " []]"
      ]
     },
     "execution_count": 19,
     "metadata": {},
     "output_type": "execute_result"
    }
   ],
   "source": [
    "entity_context_list"
   ]
  },
  {
   "cell_type": "markdown",
   "metadata": {},
   "source": [
    "## Group Entities"
   ]
  },
  {
   "cell_type": "code",
   "execution_count": 20,
   "metadata": {},
   "outputs": [],
   "source": [
    "prompt = ChatPromptTemplate.from_messages([\n",
    "    (\"system\", \"Group ALL entities according to semantic meaning of entity. \\nThe output MUST be dictionary format.\"),\n",
    "    (\"user\", \"{entities}\"),        \n",
    "])\n",
    "chain = prompt | llm\n",
    "\n",
    "context_tags_list = list()\n",
    "for entit_sample in entity_context_list:\n",
    "    tags = chain.invoke({\"entities\": entit_sample})\n",
    "    context_tags_list.append(tags)"
   ]
  },
  {
   "cell_type": "markdown",
   "metadata": {},
   "source": [
    "## Extract Properties of terms"
   ]
  },
  {
   "cell_type": "code",
   "execution_count": 21,
   "metadata": {},
   "outputs": [],
   "source": [
    "prompt = ChatPromptTemplate.from_messages([\n",
    "    (\"system\", \"Extract properties of each entities from plain input. \\nThe output MUST be YAML format.\"),\n",
    "    (\"system\", \"{entities}\"),        \n",
    "    (\"user\", \"{input}\")\n",
    "])\n",
    "\n",
    "chain = prompt | llm \n",
    "\n",
    "properties_list = list()\n",
    "for context_entity, context in zip(entity_context_list, contexts['context'].values):\n",
    "    properties = chain.invoke({\"input\": context,\"entities\": context_entity})\n",
    "    properties_list.append(properties)\n",
    "\n",
    "properties_list"
   ]
  },
  {
   "cell_type": "code",
   "execution_count": 15,
   "metadata": {},
   "outputs": [
    {
     "data": {
      "text/plain": [
       "\"## Extracted Properties of Each Entity in the Text:\\n\\n**System:**\\n\\n- **Name:** System\\n- **Properties:**\\n    - Extract properties of each entity from plain input.\\n    - Output MUST be in YAML format.\\n\\n**Human:**\\n\\n- **Name:** Beyoncé Giselle Knowles-Carter\\n- **Properties:**\\n    - Full name: Beyoncé Giselle Knowles-Carter\\n    - Birth name: Knowles-Carter\\n    - Birth date: September 4, 1981\\n    - Nationality: American\\n    - Occupation: Singer, songwriter, record producer, actress\\n    - Place of birth: Houston, Texas\\n    - Rise to fame: Late 1990s\\n    - Group: Destiny's Child\\n    - Group achievements: Best-selling girl group of all time\\n    - Hiatus: Release of Beyoncé's debut album\\n    - Solo album: Dangerously in Love (2003)\\n    - Solo achievements: Five Grammy Awards\\n    - Songs: 'Crazy in Love', 'Baby Boy'\""
      ]
     },
     "execution_count": 15,
     "metadata": {},
     "output_type": "execute_result"
    }
   ],
   "source": [
    "properties_list[0]"
   ]
  },
  {
   "cell_type": "markdown",
   "metadata": {},
   "source": [
    "## Extract relationships between terms"
   ]
  },
  {
   "cell_type": "code",
   "execution_count": null,
   "metadata": {},
   "outputs": [],
   "source": [
    "from langchain.output_parsers import ResponseSchema, StructuredOutputParser\n",
    "from langchain.prompts import PromptTemplate\n",
    "\n",
    "response_schemas = [\n",
    "    ResponseSchema(name=\"first entity\", description=\"first entity of relationship between entities\"),\n",
    "    ResponseSchema(name=\"relationship\", description=\"relationship between two entity semantically\"),\n",
    "    ResponseSchema(name=\"second entity\", description=\"second entity of relationship between entities\"),\n",
    "]\n",
    "relationship_parser = StructuredOutputParser.from_response_schemas(response_schemas)"
   ]
  },
  {
   "cell_type": "code",
   "execution_count": null,
   "metadata": {},
   "outputs": [],
   "source": [
    "relationship_instructions = relationship_parser.get_format_instructions()\n",
    "prompt = PromptTemplate(\n",
    "    template=\"Create relationship between entities from plain text.\\n{relationship_instructions}\\n{entities}\\n{proporties}\\n{group}\\n{input}\",\n",
    "    input_variables=[\"entities\",\"proporties\",\"term_list\",\"input\"],\n",
    "    partial_variables={\"relationship_instructions\": relationship_instructions},\n",
    ")\n",
    "chain = prompt | llm  \n",
    "for context_idx in range(len(contexts)):\n",
    "    relationships = chain.invoke({\"input\": contexts['context'].iloc[context_idx],\"entities\": entity_context_list[context_idx], 'proporties':properties_list[idx], 'group':context_tags_list[idx]})\n",
    "    print(relationships)"
   ]
  }
 ],
 "metadata": {
  "kernelspec": {
   "display_name": "ollama",
   "language": "python",
   "name": "python3"
  },
  "language_info": {
   "codemirror_mode": {
    "name": "ipython",
    "version": 3
   },
   "file_extension": ".py",
   "mimetype": "text/x-python",
   "name": "python",
   "nbconvert_exporter": "python",
   "pygments_lexer": "ipython3",
   "version": "3.9.18"
  }
 },
 "nbformat": 4,
 "nbformat_minor": 2
}
